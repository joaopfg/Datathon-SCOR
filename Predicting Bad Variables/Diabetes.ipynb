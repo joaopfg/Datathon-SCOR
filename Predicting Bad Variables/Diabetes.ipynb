{
 "cells": [
  {
   "cell_type": "code",
   "execution_count": 6,
   "metadata": {},
   "outputs": [],
   "source": [
    "#Regex\n",
    "import re\n",
    "\n",
    "# Pandas\n",
    "import pandas as pd\n",
    "\n",
    "# Numpy\n",
    "import numpy as np\n",
    "\n",
    "# matplotlib\n",
    "import matplotlib.pyplot as plt\n",
    "\n",
    "# Ipython tool for figsize\n",
    "from IPython.core.pylabtools import figsize\n",
    "\n",
    "# train test split\n",
    "from sklearn.model_selection import train_test_split\n",
    "\n",
    "# Pipeline\n",
    "from sklearn.pipeline import Pipeline\n",
    "\n",
    "# DictVectorizer\n",
    "from sklearn.feature_extraction import DictVectorizer\n",
    "\n",
    "# XGB\n",
    "import xgboost as xgb\n",
    "\n",
    "# cross_val_score\n",
    "from sklearn.model_selection import cross_val_score\n",
    "\n",
    "# DataframeMapper, CategoricalImputer\n",
    "from sklearn_pandas import DataFrameMapper, CategoricalImputer\n",
    "\n",
    "# FeatureUnion\n",
    "from sklearn.pipeline import FeatureUnion\n",
    "\n",
    "# Function Transformer\n",
    "from sklearn.preprocessing import FunctionTransformer\n",
    "\n",
    "# Plot AUC *(Self Defined Package)\n",
    "from metrics.roc_auc import roc_auc\n",
    "\n",
    "# ROC AUC\n",
    "from sklearn.metrics import roc_auc_score, roc_curve\n",
    "\n",
    "# Methods to check for numeric or categorical data in a dataframe\n",
    "from pandas.api.types import is_string_dtype\n",
    "from pandas.api.types import is_numeric_dtype\n",
    "\n",
    "# Resampling\n",
    "from collections import Counter\n",
    "from imblearn.over_sampling import SMOTE\n",
    "\n",
    "#Pickle to save models\n",
    "import pickle"
   ]
  },
  {
   "cell_type": "code",
   "execution_count": 7,
   "metadata": {},
   "outputs": [],
   "source": [
    "# set display columns\n",
    "pd.set_option('display.max_columns', 31)"
   ]
  },
  {
   "cell_type": "code",
   "execution_count": 8,
   "metadata": {},
   "outputs": [
    {
     "data": {
      "text/html": [
       "<div>\n",
       "<style scoped>\n",
       "    .dataframe tbody tr th:only-of-type {\n",
       "        vertical-align: middle;\n",
       "    }\n",
       "\n",
       "    .dataframe tbody tr th {\n",
       "        vertical-align: top;\n",
       "    }\n",
       "\n",
       "    .dataframe thead th {\n",
       "        text-align: right;\n",
       "    }\n",
       "</style>\n",
       "<table border=\"1\" class=\"dataframe\">\n",
       "  <thead>\n",
       "    <tr style=\"text-align: right;\">\n",
       "      <th></th>\n",
       "      <th>Gender</th>\n",
       "      <th>Age</th>\n",
       "      <th>Poverty</th>\n",
       "      <th>Weight</th>\n",
       "      <th>Height</th>\n",
       "      <th>BMI</th>\n",
       "      <th>Pulse</th>\n",
       "      <th>BPSysAve</th>\n",
       "      <th>BPDiaAve</th>\n",
       "      <th>DirectChol</th>\n",
       "      <th>TotChol</th>\n",
       "      <th>FatFoods</th>\n",
       "      <th>UrineVol1</th>\n",
       "      <th>UrineFlow1</th>\n",
       "      <th>Diabetes</th>\n",
       "      <th>HealthGen</th>\n",
       "      <th>SleepHrsNight</th>\n",
       "      <th>SleepTrouble</th>\n",
       "      <th>PhysActive</th>\n",
       "      <th>WalkBic</th>\n",
       "      <th>VigActiv</th>\n",
       "      <th>ModActiv</th>\n",
       "      <th>TVHrsDay</th>\n",
       "      <th>AlcoholDay</th>\n",
       "      <th>AlcoholYear</th>\n",
       "      <th>Smoke100</th>\n",
       "      <th>mortstat</th>\n",
       "    </tr>\n",
       "  </thead>\n",
       "  <tbody>\n",
       "    <tr>\n",
       "      <th>0</th>\n",
       "      <td>1</td>\n",
       "      <td>69.0</td>\n",
       "      <td>0.84</td>\n",
       "      <td>78.3</td>\n",
       "      <td>171.3</td>\n",
       "      <td>26.7</td>\n",
       "      <td>86.0</td>\n",
       "      <td>122.0</td>\n",
       "      <td>72.0</td>\n",
       "      <td>1.68</td>\n",
       "      <td>4.32</td>\n",
       "      <td>8.0</td>\n",
       "      <td>87.0</td>\n",
       "      <td>0.821</td>\n",
       "      <td>1</td>\n",
       "      <td>Vgood</td>\n",
       "      <td>7.0</td>\n",
       "      <td>Yes</td>\n",
       "      <td>0</td>\n",
       "      <td>0</td>\n",
       "      <td>0</td>\n",
       "      <td>0</td>\n",
       "      <td>2.0</td>\n",
       "      <td>1.0</td>\n",
       "      <td>1.0</td>\n",
       "      <td>1</td>\n",
       "      <td>1</td>\n",
       "    </tr>\n",
       "    <tr>\n",
       "      <th>1</th>\n",
       "      <td>1</td>\n",
       "      <td>54.0</td>\n",
       "      <td>1.78</td>\n",
       "      <td>89.5</td>\n",
       "      <td>176.8</td>\n",
       "      <td>28.6</td>\n",
       "      <td>74.0</td>\n",
       "      <td>156.0</td>\n",
       "      <td>62.0</td>\n",
       "      <td>1.29</td>\n",
       "      <td>4.4</td>\n",
       "      <td>0.0</td>\n",
       "      <td>90.0</td>\n",
       "      <td>1.636</td>\n",
       "      <td>1</td>\n",
       "      <td>Fair</td>\n",
       "      <td>9.0</td>\n",
       "      <td>No</td>\n",
       "      <td>1</td>\n",
       "      <td>0</td>\n",
       "      <td>0</td>\n",
       "      <td>0</td>\n",
       "      <td>4.0</td>\n",
       "      <td>4.0</td>\n",
       "      <td>7.0</td>\n",
       "      <td>1</td>\n",
       "      <td>1</td>\n",
       "    </tr>\n",
       "    <tr>\n",
       "      <th>2</th>\n",
       "      <td>1</td>\n",
       "      <td>72.0</td>\n",
       "      <td>4.51</td>\n",
       "      <td>88.9</td>\n",
       "      <td>175.3</td>\n",
       "      <td>28.9</td>\n",
       "      <td>68.0</td>\n",
       "      <td>140.0</td>\n",
       "      <td>90.0</td>\n",
       "      <td>1.55</td>\n",
       "      <td>3.26</td>\n",
       "      <td>1.0</td>\n",
       "      <td>66.0</td>\n",
       "      <td>0.684</td>\n",
       "      <td>1</td>\n",
       "      <td>Good</td>\n",
       "      <td>8.0</td>\n",
       "      <td>No</td>\n",
       "      <td>1</td>\n",
       "      <td>0</td>\n",
       "      <td>0</td>\n",
       "      <td>1</td>\n",
       "      <td>4.0</td>\n",
       "      <td>2.0</td>\n",
       "      <td>0.0</td>\n",
       "      <td>1</td>\n",
       "      <td>1</td>\n",
       "    </tr>\n",
       "    <tr>\n",
       "      <th>3</th>\n",
       "      <td>0</td>\n",
       "      <td>73.0</td>\n",
       "      <td>5.0</td>\n",
       "      <td>52.0</td>\n",
       "      <td>162.4</td>\n",
       "      <td>19.7</td>\n",
       "      <td>92.0</td>\n",
       "      <td>136.0</td>\n",
       "      <td>86.0</td>\n",
       "      <td>2.2</td>\n",
       "      <td>5.2</td>\n",
       "      <td>0.0</td>\n",
       "      <td>5.0</td>\n",
       "      <td>0.109</td>\n",
       "      <td>0</td>\n",
       "      <td>Poor</td>\n",
       "      <td>9.0</td>\n",
       "      <td>No</td>\n",
       "      <td>1</td>\n",
       "      <td>0</td>\n",
       "      <td>0</td>\n",
       "      <td>0</td>\n",
       "      <td>1.0</td>\n",
       "      <td>2.0</td>\n",
       "      <td>0.0</td>\n",
       "      <td>0</td>\n",
       "      <td>0</td>\n",
       "    </tr>\n",
       "    <tr>\n",
       "      <th>4</th>\n",
       "      <td>1</td>\n",
       "      <td>56.0</td>\n",
       "      <td>4.79</td>\n",
       "      <td>105.0</td>\n",
       "      <td>158.7</td>\n",
       "      <td>41.7</td>\n",
       "      <td>60.0</td>\n",
       "      <td>160.0</td>\n",
       "      <td>84.0</td>\n",
       "      <td>0.98</td>\n",
       "      <td>5.84</td>\n",
       "      <td>14.0</td>\n",
       "      <td>197.0</td>\n",
       "      <td>1.187</td>\n",
       "      <td>0</td>\n",
       "      <td>Poor</td>\n",
       "      <td>5.0</td>\n",
       "      <td>No</td>\n",
       "      <td>0</td>\n",
       "      <td>0</td>\n",
       "      <td>0</td>\n",
       "      <td>0</td>\n",
       "      <td>5.0</td>\n",
       "      <td>1.0</td>\n",
       "      <td>5.0</td>\n",
       "      <td>1</td>\n",
       "      <td>1</td>\n",
       "    </tr>\n",
       "  </tbody>\n",
       "</table>\n",
       "</div>"
      ],
      "text/plain": [
       "  Gender   Age Poverty Weight Height   BMI Pulse BPSysAve BPDiaAve DirectChol  \\\n",
       "0      1  69.0    0.84   78.3  171.3  26.7  86.0    122.0     72.0       1.68   \n",
       "1      1  54.0    1.78   89.5  176.8  28.6  74.0    156.0     62.0       1.29   \n",
       "2      1  72.0    4.51   88.9  175.3  28.9  68.0    140.0     90.0       1.55   \n",
       "3      0  73.0     5.0   52.0  162.4  19.7  92.0    136.0     86.0        2.2   \n",
       "4      1  56.0    4.79  105.0  158.7  41.7  60.0    160.0     84.0       0.98   \n",
       "\n",
       "  TotChol FatFoods UrineVol1 UrineFlow1 Diabetes HealthGen SleepHrsNight  \\\n",
       "0    4.32      8.0      87.0      0.821        1     Vgood           7.0   \n",
       "1     4.4      0.0      90.0      1.636        1      Fair           9.0   \n",
       "2    3.26      1.0      66.0      0.684        1      Good           8.0   \n",
       "3     5.2      0.0       5.0      0.109        0      Poor           9.0   \n",
       "4    5.84     14.0     197.0      1.187        0      Poor           5.0   \n",
       "\n",
       "  SleepTrouble PhysActive WalkBic VigActiv ModActiv TVHrsDay AlcoholDay  \\\n",
       "0          Yes          0       0        0        0      2.0        1.0   \n",
       "1           No          1       0        0        0      4.0        4.0   \n",
       "2           No          1       0        0        1      4.0        2.0   \n",
       "3           No          1       0        0        0      1.0        2.0   \n",
       "4           No          0       0        0        0      5.0        1.0   \n",
       "\n",
       "  AlcoholYear Smoke100 mortstat  \n",
       "0         1.0        1        1  \n",
       "1         7.0        1        1  \n",
       "2         0.0        1        1  \n",
       "3         0.0        0        0  \n",
       "4         5.0        1        1  "
      ]
     },
     "execution_count": 8,
     "metadata": {},
     "output_type": "execute_result"
    }
   ],
   "source": [
    "# Load data\n",
    "df = pd.read_csv('Final_NHANES_2013_2014.csv', dtype = object)\n",
    "df.head()"
   ]
  },
  {
   "cell_type": "code",
   "execution_count": 9,
   "metadata": {},
   "outputs": [
    {
     "data": {
      "text/html": [
       "<div>\n",
       "<style scoped>\n",
       "    .dataframe tbody tr th:only-of-type {\n",
       "        vertical-align: middle;\n",
       "    }\n",
       "\n",
       "    .dataframe tbody tr th {\n",
       "        vertical-align: top;\n",
       "    }\n",
       "\n",
       "    .dataframe thead th {\n",
       "        text-align: right;\n",
       "    }\n",
       "</style>\n",
       "<table border=\"1\" class=\"dataframe\">\n",
       "  <thead>\n",
       "    <tr style=\"text-align: right;\">\n",
       "      <th></th>\n",
       "      <th>Weight</th>\n",
       "      <th>BMI</th>\n",
       "      <th>Pulse</th>\n",
       "      <th>Diabetes</th>\n",
       "      <th>SleepHrsNight</th>\n",
       "      <th>Age</th>\n",
       "      <th>Smoke100</th>\n",
       "      <th>PhysActive</th>\n",
       "      <th>WalkBic</th>\n",
       "      <th>VigActiv</th>\n",
       "      <th>ModActiv</th>\n",
       "      <th>TVHrsDay</th>\n",
       "      <th>FatFoods</th>\n",
       "      <th>AlcoholDay</th>\n",
       "      <th>AlcoholYear</th>\n",
       "    </tr>\n",
       "  </thead>\n",
       "  <tbody>\n",
       "    <tr>\n",
       "      <th>0</th>\n",
       "      <td>78.3</td>\n",
       "      <td>26.7</td>\n",
       "      <td>86.0</td>\n",
       "      <td>1</td>\n",
       "      <td>7.0</td>\n",
       "      <td>69.0</td>\n",
       "      <td>1</td>\n",
       "      <td>0</td>\n",
       "      <td>0</td>\n",
       "      <td>0</td>\n",
       "      <td>0</td>\n",
       "      <td>2.0</td>\n",
       "      <td>8.0</td>\n",
       "      <td>1.0</td>\n",
       "      <td>1.0</td>\n",
       "    </tr>\n",
       "    <tr>\n",
       "      <th>1</th>\n",
       "      <td>89.5</td>\n",
       "      <td>28.6</td>\n",
       "      <td>74.0</td>\n",
       "      <td>1</td>\n",
       "      <td>9.0</td>\n",
       "      <td>54.0</td>\n",
       "      <td>1</td>\n",
       "      <td>1</td>\n",
       "      <td>0</td>\n",
       "      <td>0</td>\n",
       "      <td>0</td>\n",
       "      <td>4.0</td>\n",
       "      <td>0.0</td>\n",
       "      <td>4.0</td>\n",
       "      <td>7.0</td>\n",
       "    </tr>\n",
       "    <tr>\n",
       "      <th>2</th>\n",
       "      <td>88.9</td>\n",
       "      <td>28.9</td>\n",
       "      <td>68.0</td>\n",
       "      <td>1</td>\n",
       "      <td>8.0</td>\n",
       "      <td>72.0</td>\n",
       "      <td>1</td>\n",
       "      <td>1</td>\n",
       "      <td>0</td>\n",
       "      <td>0</td>\n",
       "      <td>1</td>\n",
       "      <td>4.0</td>\n",
       "      <td>1.0</td>\n",
       "      <td>2.0</td>\n",
       "      <td>0.0</td>\n",
       "    </tr>\n",
       "    <tr>\n",
       "      <th>3</th>\n",
       "      <td>52.0</td>\n",
       "      <td>19.7</td>\n",
       "      <td>92.0</td>\n",
       "      <td>0</td>\n",
       "      <td>9.0</td>\n",
       "      <td>73.0</td>\n",
       "      <td>0</td>\n",
       "      <td>1</td>\n",
       "      <td>0</td>\n",
       "      <td>0</td>\n",
       "      <td>0</td>\n",
       "      <td>1.0</td>\n",
       "      <td>0.0</td>\n",
       "      <td>2.0</td>\n",
       "      <td>0.0</td>\n",
       "    </tr>\n",
       "    <tr>\n",
       "      <th>4</th>\n",
       "      <td>105.0</td>\n",
       "      <td>41.7</td>\n",
       "      <td>60.0</td>\n",
       "      <td>0</td>\n",
       "      <td>5.0</td>\n",
       "      <td>56.0</td>\n",
       "      <td>1</td>\n",
       "      <td>0</td>\n",
       "      <td>0</td>\n",
       "      <td>0</td>\n",
       "      <td>0</td>\n",
       "      <td>5.0</td>\n",
       "      <td>14.0</td>\n",
       "      <td>1.0</td>\n",
       "      <td>5.0</td>\n",
       "    </tr>\n",
       "  </tbody>\n",
       "</table>\n",
       "</div>"
      ],
      "text/plain": [
       "   Weight   BMI  Pulse  Diabetes  SleepHrsNight   Age  Smoke100  PhysActive  \\\n",
       "0    78.3  26.7   86.0         1            7.0  69.0         1           0   \n",
       "1    89.5  28.6   74.0         1            9.0  54.0         1           1   \n",
       "2    88.9  28.9   68.0         1            8.0  72.0         1           1   \n",
       "3    52.0  19.7   92.0         0            9.0  73.0         0           1   \n",
       "4   105.0  41.7   60.0         0            5.0  56.0         1           0   \n",
       "\n",
       "   WalkBic  VigActiv  ModActiv  TVHrsDay  FatFoods  AlcoholDay  AlcoholYear  \n",
       "0        0         0         0       2.0       8.0         1.0          1.0  \n",
       "1        0         0         0       4.0       0.0         4.0          7.0  \n",
       "2        0         0         1       4.0       1.0         2.0          0.0  \n",
       "3        0         0         0       1.0       0.0         2.0          0.0  \n",
       "4        0         0         0       5.0      14.0         1.0          5.0  "
      ]
     },
     "execution_count": 9,
     "metadata": {},
     "output_type": "execute_result"
    }
   ],
   "source": [
    "cols = ['Weight', 'BMI', 'Pulse', 'Diabetes', 'SleepHrsNight', 'Age', 'Smoke100', 'PhysActive', 'WalkBic', 'VigActiv', 'ModActiv', 'TVHrsDay', 'FatFoods', 'AlcoholDay', 'AlcoholYear']\n",
    "df = df[cols]\n",
    "df[cols] = df[cols].apply(pd.to_numeric, errors='coerce')\n",
    "df.head()"
   ]
  },
  {
   "cell_type": "code",
   "execution_count": 10,
   "metadata": {},
   "outputs": [],
   "source": [
    "X = df.drop(columns=['Diabetes'])\n",
    "y = df['Diabetes']"
   ]
  },
  {
   "cell_type": "code",
   "execution_count": 11,
   "metadata": {},
   "outputs": [
    {
     "name": "stdout",
     "output_type": "stream",
     "text": [
      "Original dataset shape Counter({0: 5374, 1: 726})\n"
     ]
    }
   ],
   "source": [
    "print('Original dataset shape %s' % Counter(y))"
   ]
  },
  {
   "cell_type": "code",
   "execution_count": 12,
   "metadata": {},
   "outputs": [],
   "source": [
    "sm = SMOTE(random_state=42)"
   ]
  },
  {
   "cell_type": "code",
   "execution_count": 13,
   "metadata": {},
   "outputs": [],
   "source": [
    "X_res, y_res = sm.fit_resample(X, y)"
   ]
  },
  {
   "cell_type": "code",
   "execution_count": 14,
   "metadata": {},
   "outputs": [
    {
     "name": "stdout",
     "output_type": "stream",
     "text": [
      "Resampled dataset shape Counter({1: 5374, 0: 5374})\n"
     ]
    }
   ],
   "source": [
    "print('Resampled dataset shape %s' % Counter(y_res))"
   ]
  },
  {
   "cell_type": "code",
   "execution_count": 15,
   "metadata": {},
   "outputs": [],
   "source": [
    "# Instantiate XGBClassifier\n",
    "xgb_cl = xgb.XGBClassifier()"
   ]
  },
  {
   "cell_type": "code",
   "execution_count": 16,
   "metadata": {},
   "outputs": [],
   "source": [
    "# cross validation score\n",
    "cv_scores = cross_val_score(xgb_cl, X_res, y_res, scoring='balanced_accuracy', cv=3)"
   ]
  },
  {
   "cell_type": "code",
   "execution_count": 17,
   "metadata": {},
   "outputs": [
    {
     "name": "stdout",
     "output_type": "stream",
     "text": [
      "3-Fold AUC: 0.9014044470035362\n"
     ]
    }
   ],
   "source": [
    "# print out the mean cross validation score\n",
    "print('3-Fold AUC: {}'.format(np.mean(cv_scores)))"
   ]
  },
  {
   "cell_type": "code",
   "execution_count": 18,
   "metadata": {},
   "outputs": [],
   "source": [
    "# train test split\n",
    "X_train, X_test, y_train, y_test = train_test_split(X_res, y_res, test_size=0.3, \n",
    "                                                    random_state=21, stratify=y_res)"
   ]
  },
  {
   "cell_type": "code",
   "execution_count": 19,
   "metadata": {},
   "outputs": [
    {
     "data": {
      "text/plain": [
       "XGBClassifier(base_score=0.5, booster='gbtree', colsample_bylevel=1,\n",
       "              colsample_bynode=1, colsample_bytree=1, gamma=0,\n",
       "              learning_rate=0.1, max_delta_step=0, max_depth=3,\n",
       "              min_child_weight=1, missing=None, n_estimators=100, n_jobs=1,\n",
       "              nthread=None, objective='binary:logistic', random_state=0,\n",
       "              reg_alpha=0, reg_lambda=1, scale_pos_weight=1, seed=None,\n",
       "              silent=None, subsample=1, verbosity=1)"
      ]
     },
     "execution_count": 19,
     "metadata": {},
     "output_type": "execute_result"
    }
   ],
   "source": [
    "# fit the model\n",
    "xgb_cl.fit(X_train, y_train)"
   ]
  },
  {
   "cell_type": "code",
   "execution_count": 20,
   "metadata": {},
   "outputs": [],
   "source": [
    "# save the model to disk\n",
    "filename = 'Diabetes_model.sav'\n",
    "pickle.dump(xgb_cl, open(filename, 'wb'))"
   ]
  },
  {
   "cell_type": "code",
   "execution_count": 21,
   "metadata": {},
   "outputs": [],
   "source": [
    "xgb_cl = pickle.load(open(filename, 'rb'))"
   ]
  },
  {
   "cell_type": "code",
   "execution_count": 22,
   "metadata": {},
   "outputs": [],
   "source": [
    "y_pred_prob = xgb_cl.predict_proba(X_test)[:, 1] # [:, 1]: the second value is the probability for 1"
   ]
  },
  {
   "cell_type": "code",
   "execution_count": 23,
   "metadata": {},
   "outputs": [
    {
     "data": {
      "text/plain": [
       "array([0.01366808, 0.9447619 , 0.0819043 , ..., 0.03938744, 0.9610507 ,\n",
       "       0.17452393], dtype=float32)"
      ]
     },
     "execution_count": 23,
     "metadata": {},
     "output_type": "execute_result"
    }
   ],
   "source": [
    "y_pred_prob"
   ]
  },
  {
   "cell_type": "code",
   "execution_count": 25,
   "metadata": {},
   "outputs": [],
   "source": [
    "# instantiate a roc_auc object\n",
    "ROC = roc_auc(y_test, y_pred_prob, model='XGB')"
   ]
  },
  {
   "cell_type": "code",
   "execution_count": 26,
   "metadata": {},
   "outputs": [
    {
     "data": {
      "text/plain": [
       "0.9733116013039218"
      ]
     },
     "execution_count": 26,
     "metadata": {},
     "output_type": "execute_result"
    }
   ],
   "source": [
    "# AUC score\n",
    "ROC.auc()"
   ]
  },
  {
   "cell_type": "code",
   "execution_count": 27,
   "metadata": {},
   "outputs": [
    {
     "data": {
      "image/png": "[encoded data removed]",
      "text/plain": [
       "<Figure size 720x576 with 1 Axes>"
      ]
     },
     "metadata": {},
     "output_type": "display_data"
    }
   ],
   "source": [
    "# set figsize\n",
    "figsize(10,8)\n",
    "\n",
    "# plot styple\n",
    "plt.style.use('fivethirtyeight')\n",
    "\n",
    "# plot roc\n",
    "ROC.plot_roc()"
   ]
  },
  {
   "cell_type": "code",
   "execution_count": 28,
   "metadata": {},
   "outputs": [
    {
     "data": {
      "text/plain": [
       "<matplotlib.axes._subplots.AxesSubplot at 0x7feec93f7c88>"
      ]
     },
     "execution_count": 28,
     "metadata": {},
     "output_type": "execute_result"
    },
    {
     "data": {
      "image/png": "[encoded data removed]",
      "text/plain": [
       "<Figure size 720x720 with 1 Axes>"
      ]
     },
     "metadata": {},
     "output_type": "display_data"
    }
   ],
   "source": [
    "# set figsize\n",
    "figsize(10,10)\n",
    "\n",
    "# plot styple\n",
    "plt.style.use('fivethirtyeight')\n",
    "\n",
    "# plot feature importance\n",
    "xgb.plot_importance(xgb_cl)"
   ]
  },
  {
   "cell_type": "code",
   "execution_count": null,
   "metadata": {},
   "outputs": [],
   "source": []
  }
 ],
 "metadata": {
  "kernelspec": {
   "display_name": "Python 3",
   "language": "python",
   "name": "python3"
  },
  "language_info": {
   "codemirror_mode": {
    "name": "ipython",
    "version": 3
   },
   "file_extension": ".py",
   "mimetype": "text/x-python",
   "name": "python",
   "nbconvert_exporter": "python",
   "pygments_lexer": "ipython3",
   "version": "3.6.10"
  }
 },
 "nbformat": 4,
 "nbformat_minor": 4
}
