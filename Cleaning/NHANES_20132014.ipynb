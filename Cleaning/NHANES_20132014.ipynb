{
 "cells": [
  {
   "cell_type": "code",
   "execution_count": 1448,
   "metadata": {},
   "outputs": [],
   "source": [
    "import numpy as np\n",
    "import pandas as pd\n",
    "\n",
    "# DataframeMapper, CategoricalImputer\n",
    "from sklearn_pandas import DataFrameMapper, CategoricalImputer\n",
    "\n",
    "# Imputer\n",
    "from sklearn.impute import SimpleImputer\n",
    "\n",
    "# FeatureUnion\n",
    "from sklearn.pipeline import FeatureUnion\n",
    "\n",
    "# Function Transformer\n",
    "from sklearn.preprocessing import FunctionTransformer\n",
    "\n",
    "# check missing value percentage *(Self Defined Package)\n",
    "from missing_value.missing_values_table import missing_values_table\n",
    "\n",
    "# fill categoriacal missing values *(Self Defined Package)\n",
    "from missing_value.fill_missing_values import Categorical_Imputer"
   ]
  },
  {
   "cell_type": "code",
   "execution_count": 1449,
   "metadata": {},
   "outputs": [
    {
     "name": "stderr",
     "output_type": "stream",
     "text": [
      "/home/dell/anaconda2/envs/tfdeeplearning/lib/python3.6/site-packages/IPython/core/interactiveshell.py:3063: DtypeWarning: Columns (57,74,238,241,251,254,287,299,319,339,518,538,539,567,606,623,649,691,705,766,822,1055,1061,1063,1064,1067,1070,1072,1078,1086,1090,1099,1102,1104,1105,1107,1109,1111,1112,1113,1115,1116,1117,1120,1125,1150,1151,1152,1153,1199,1201,1202,1206,1212,1217,1223,1228,1229,1230,1231,1232,1239,1251,1253,1255,1259,1265,1275,1277,1303,1316,1336,1338,1340,1342,1344,1346,1348,1351,1354,1357,1360,1363,1364,1365,1366,1373,1375,1377,1380,1384,1386,1391,1393,1394,1420,1426,1433,1434,1435,1436,1437,1439,1442,1445,1448,1451,1454,1474,1475,1483,1484,1486,1487,1490,1492,1493,1495,1497,1506,1508,1510,1512,1513,1514,1516,1525,1526,1527,1530,1533,1534,1536,1547,1548,1550,1551,1552,1553,1555,1556,1557,1558,1559,1562,1564,1565,1566,1574,1579,1616,1619,1622,1630,1631,1632,1642,1644,1648,1650,1651,1652,1655,1657,1661,1663,1665,1668,1669,1670,1671,1672,1673,1675,1686,1687,1688,1689,1690,1691,1692,1693,1699,1700,1701,1702,1707,1708,1709,1710,1711,1712,1714,1725,1733,1737,1748,1749,1750,1751,1752,1753,1755,1756,1761,1765,1767,1776,1780,1785,1787,1815,1819,1841,1843,1847,1852,1853) have mixed types. Specify dtype option on import or set low_memory=False.\n",
      "  interactivity=interactivity, compiler=compiler, result=result)\n"
     ]
    },
    {
     "data": {
      "text/plain": [
       "(10175, 1869)"
      ]
     },
     "execution_count": 1449,
     "metadata": {},
     "output_type": "execute_result"
    }
   ],
   "source": [
    "df = pd.read_csv('NHANES_ALL2.csv')\n",
    "df.shape"
   ]
  },
  {
   "cell_type": "code",
   "execution_count": 1450,
   "metadata": {},
   "outputs": [
    {
     "data": {
      "text/html": [
       "<div>\n",
       "<style scoped>\n",
       "    .dataframe tbody tr th:only-of-type {\n",
       "        vertical-align: middle;\n",
       "    }\n",
       "\n",
       "    .dataframe tbody tr th {\n",
       "        vertical-align: top;\n",
       "    }\n",
       "\n",
       "    .dataframe thead th {\n",
       "        text-align: right;\n",
       "    }\n",
       "</style>\n",
       "<table border=\"1\" class=\"dataframe\">\n",
       "  <thead>\n",
       "    <tr style=\"text-align: right;\">\n",
       "      <th></th>\n",
       "      <th>Unnamed: 0</th>\n",
       "      <th>SEQN</th>\n",
       "      <th>SDDSRVYR</th>\n",
       "      <th>RIDSTATR</th>\n",
       "      <th>RIAGENDR</th>\n",
       "      <th>RIDAGEYR</th>\n",
       "      <th>RIDAGEMN</th>\n",
       "      <th>RIDRETH1</th>\n",
       "      <th>RIDRETH3</th>\n",
       "      <th>RIDEXMON</th>\n",
       "      <th>RIDEXAGM</th>\n",
       "      <th>DMQMILIZ</th>\n",
       "      <th>DMQADFC</th>\n",
       "      <th>DMDBORN4</th>\n",
       "      <th>DMDCITZN</th>\n",
       "      <th>...</th>\n",
       "      <th>WHD110</th>\n",
       "      <th>WHD120</th>\n",
       "      <th>WHD130</th>\n",
       "      <th>WHD140</th>\n",
       "      <th>WHQ150</th>\n",
       "      <th>WHQ030M</th>\n",
       "      <th>WHQ500</th>\n",
       "      <th>WHQ520</th>\n",
       "      <th>eligstat</th>\n",
       "      <th>mortstat</th>\n",
       "      <th>ucod_leading</th>\n",
       "      <th>diabetes</th>\n",
       "      <th>hyperten</th>\n",
       "      <th>permth_int</th>\n",
       "      <th>permth_exm</th>\n",
       "    </tr>\n",
       "  </thead>\n",
       "  <tbody>\n",
       "    <tr>\n",
       "      <th>0</th>\n",
       "      <td>1</td>\n",
       "      <td>73557</td>\n",
       "      <td>NHANES 2013-2014 public release</td>\n",
       "      <td>Both interviewed and MEC examined</td>\n",
       "      <td>Male</td>\n",
       "      <td>69</td>\n",
       "      <td>NaN</td>\n",
       "      <td>Non-Hispanic Black</td>\n",
       "      <td>Non-Hispanic Black</td>\n",
       "      <td>November 1 through April 30</td>\n",
       "      <td>NaN</td>\n",
       "      <td>Yes</td>\n",
       "      <td>Yes</td>\n",
       "      <td>Born in 50 US states or Washington, DC</td>\n",
       "      <td>Citizen by birth or naturalization</td>\n",
       "      <td>...</td>\n",
       "      <td>270</td>\n",
       "      <td>200</td>\n",
       "      <td>69</td>\n",
       "      <td>270</td>\n",
       "      <td>62</td>\n",
       "      <td>NaN</td>\n",
       "      <td>NaN</td>\n",
       "      <td>NaN</td>\n",
       "      <td>Eligible</td>\n",
       "      <td>Assumed Alive</td>\n",
       "      <td>NaN</td>\n",
       "      <td>NaN</td>\n",
       "      <td>NaN</td>\n",
       "      <td>14.0</td>\n",
       "      <td>14.0</td>\n",
       "    </tr>\n",
       "    <tr>\n",
       "      <th>1</th>\n",
       "      <td>2</td>\n",
       "      <td>73558</td>\n",
       "      <td>NHANES 2013-2014 public release</td>\n",
       "      <td>Both interviewed and MEC examined</td>\n",
       "      <td>Male</td>\n",
       "      <td>54</td>\n",
       "      <td>NaN</td>\n",
       "      <td>Non-Hispanic White</td>\n",
       "      <td>Non-Hispanic White</td>\n",
       "      <td>November 1 through April 30</td>\n",
       "      <td>NaN</td>\n",
       "      <td>No</td>\n",
       "      <td>NaN</td>\n",
       "      <td>Born in 50 US states or Washington, DC</td>\n",
       "      <td>Citizen by birth or naturalization</td>\n",
       "      <td>...</td>\n",
       "      <td>240</td>\n",
       "      <td>250</td>\n",
       "      <td>72</td>\n",
       "      <td>250</td>\n",
       "      <td>25</td>\n",
       "      <td>NaN</td>\n",
       "      <td>NaN</td>\n",
       "      <td>NaN</td>\n",
       "      <td>Eligible</td>\n",
       "      <td>Assumed Alive</td>\n",
       "      <td>NaN</td>\n",
       "      <td>NaN</td>\n",
       "      <td>NaN</td>\n",
       "      <td>24.0</td>\n",
       "      <td>24.0</td>\n",
       "    </tr>\n",
       "    <tr>\n",
       "      <th>2</th>\n",
       "      <td>3</td>\n",
       "      <td>73559</td>\n",
       "      <td>NHANES 2013-2014 public release</td>\n",
       "      <td>Both interviewed and MEC examined</td>\n",
       "      <td>Male</td>\n",
       "      <td>72</td>\n",
       "      <td>NaN</td>\n",
       "      <td>Non-Hispanic White</td>\n",
       "      <td>Non-Hispanic White</td>\n",
       "      <td>May 1 through October 31</td>\n",
       "      <td>NaN</td>\n",
       "      <td>Yes</td>\n",
       "      <td>Yes</td>\n",
       "      <td>Born in 50 US states or Washington, DC</td>\n",
       "      <td>Citizen by birth or naturalization</td>\n",
       "      <td>...</td>\n",
       "      <td>180</td>\n",
       "      <td>190</td>\n",
       "      <td>70</td>\n",
       "      <td>228</td>\n",
       "      <td>35</td>\n",
       "      <td>NaN</td>\n",
       "      <td>NaN</td>\n",
       "      <td>NaN</td>\n",
       "      <td>Eligible</td>\n",
       "      <td>Assumed Alive</td>\n",
       "      <td>NaN</td>\n",
       "      <td>NaN</td>\n",
       "      <td>NaN</td>\n",
       "      <td>16.0</td>\n",
       "      <td>15.0</td>\n",
       "    </tr>\n",
       "    <tr>\n",
       "      <th>3</th>\n",
       "      <td>4</td>\n",
       "      <td>73560</td>\n",
       "      <td>NHANES 2013-2014 public release</td>\n",
       "      <td>Both interviewed and MEC examined</td>\n",
       "      <td>Male</td>\n",
       "      <td>9</td>\n",
       "      <td>NaN</td>\n",
       "      <td>Non-Hispanic White</td>\n",
       "      <td>Non-Hispanic White</td>\n",
       "      <td>November 1 through April 30</td>\n",
       "      <td>119.0</td>\n",
       "      <td>NaN</td>\n",
       "      <td>NaN</td>\n",
       "      <td>Born in 50 US states or Washington, DC</td>\n",
       "      <td>Citizen by birth or naturalization</td>\n",
       "      <td>...</td>\n",
       "      <td>NaN</td>\n",
       "      <td>NaN</td>\n",
       "      <td>NaN</td>\n",
       "      <td>NaN</td>\n",
       "      <td>NaN</td>\n",
       "      <td>about the right weight?</td>\n",
       "      <td>stay the same weight, or</td>\n",
       "      <td>a lot?</td>\n",
       "      <td>Under age 18, not available for release</td>\n",
       "      <td>NaN</td>\n",
       "      <td>NaN</td>\n",
       "      <td>NaN</td>\n",
       "      <td>NaN</td>\n",
       "      <td>NaN</td>\n",
       "      <td>NaN</td>\n",
       "    </tr>\n",
       "    <tr>\n",
       "      <th>4</th>\n",
       "      <td>5</td>\n",
       "      <td>73561</td>\n",
       "      <td>NHANES 2013-2014 public release</td>\n",
       "      <td>Both interviewed and MEC examined</td>\n",
       "      <td>Female</td>\n",
       "      <td>73</td>\n",
       "      <td>NaN</td>\n",
       "      <td>Non-Hispanic White</td>\n",
       "      <td>Non-Hispanic White</td>\n",
       "      <td>November 1 through April 30</td>\n",
       "      <td>NaN</td>\n",
       "      <td>No</td>\n",
       "      <td>NaN</td>\n",
       "      <td>Born in 50 US states or Washington, DC</td>\n",
       "      <td>Citizen by birth or naturalization</td>\n",
       "      <td>...</td>\n",
       "      <td>150</td>\n",
       "      <td>135</td>\n",
       "      <td>67</td>\n",
       "      <td>170</td>\n",
       "      <td>60</td>\n",
       "      <td>NaN</td>\n",
       "      <td>NaN</td>\n",
       "      <td>NaN</td>\n",
       "      <td>Eligible</td>\n",
       "      <td>Assumed Dead</td>\n",
       "      <td>Malignant neoplasm</td>\n",
       "      <td>No</td>\n",
       "      <td>No</td>\n",
       "      <td>9.0</td>\n",
       "      <td>8.0</td>\n",
       "    </tr>\n",
       "  </tbody>\n",
       "</table>\n",
       "<p>5 rows × 1869 columns</p>\n",
       "</div>"
      ],
      "text/plain": [
       "   Unnamed: 0   SEQN                         SDDSRVYR  \\\n",
       "0           1  73557  NHANES 2013-2014 public release   \n",
       "1           2  73558  NHANES 2013-2014 public release   \n",
       "2           3  73559  NHANES 2013-2014 public release   \n",
       "3           4  73560  NHANES 2013-2014 public release   \n",
       "4           5  73561  NHANES 2013-2014 public release   \n",
       "\n",
       "                            RIDSTATR RIAGENDR RIDAGEYR  RIDAGEMN  \\\n",
       "0  Both interviewed and MEC examined     Male       69       NaN   \n",
       "1  Both interviewed and MEC examined     Male       54       NaN   \n",
       "2  Both interviewed and MEC examined     Male       72       NaN   \n",
       "3  Both interviewed and MEC examined     Male        9       NaN   \n",
       "4  Both interviewed and MEC examined   Female       73       NaN   \n",
       "\n",
       "             RIDRETH1            RIDRETH3                     RIDEXMON  \\\n",
       "0  Non-Hispanic Black  Non-Hispanic Black  November 1 through April 30   \n",
       "1  Non-Hispanic White  Non-Hispanic White  November 1 through April 30   \n",
       "2  Non-Hispanic White  Non-Hispanic White     May 1 through October 31   \n",
       "3  Non-Hispanic White  Non-Hispanic White  November 1 through April 30   \n",
       "4  Non-Hispanic White  Non-Hispanic White  November 1 through April 30   \n",
       "\n",
       "   RIDEXAGM DMQMILIZ DMQADFC                                DMDBORN4  \\\n",
       "0       NaN      Yes     Yes  Born in 50 US states or Washington, DC   \n",
       "1       NaN       No     NaN  Born in 50 US states or Washington, DC   \n",
       "2       NaN      Yes     Yes  Born in 50 US states or Washington, DC   \n",
       "3     119.0      NaN     NaN  Born in 50 US states or Washington, DC   \n",
       "4       NaN       No     NaN  Born in 50 US states or Washington, DC   \n",
       "\n",
       "                             DMDCITZN  ... WHD110 WHD120 WHD130 WHD140 WHQ150  \\\n",
       "0  Citizen by birth or naturalization  ...    270    200     69    270     62   \n",
       "1  Citizen by birth or naturalization  ...    240    250     72    250     25   \n",
       "2  Citizen by birth or naturalization  ...    180    190     70    228     35   \n",
       "3  Citizen by birth or naturalization  ...    NaN    NaN    NaN    NaN    NaN   \n",
       "4  Citizen by birth or naturalization  ...    150    135     67    170     60   \n",
       "\n",
       "                   WHQ030M                    WHQ500  WHQ520  \\\n",
       "0                      NaN                       NaN     NaN   \n",
       "1                      NaN                       NaN     NaN   \n",
       "2                      NaN                       NaN     NaN   \n",
       "3  about the right weight?  stay the same weight, or  a lot?   \n",
       "4                      NaN                       NaN     NaN   \n",
       "\n",
       "                                  eligstat       mortstat        ucod_leading  \\\n",
       "0                                 Eligible  Assumed Alive                 NaN   \n",
       "1                                 Eligible  Assumed Alive                 NaN   \n",
       "2                                 Eligible  Assumed Alive                 NaN   \n",
       "3  Under age 18, not available for release            NaN                 NaN   \n",
       "4                                 Eligible   Assumed Dead  Malignant neoplasm   \n",
       "\n",
       "  diabetes hyperten permth_int permth_exm  \n",
       "0      NaN      NaN       14.0       14.0  \n",
       "1      NaN      NaN       24.0       24.0  \n",
       "2      NaN      NaN       16.0       15.0  \n",
       "3      NaN      NaN        NaN        NaN  \n",
       "4       No       No        9.0        8.0  \n",
       "\n",
       "[5 rows x 1869 columns]"
      ]
     },
     "execution_count": 1450,
     "metadata": {},
     "output_type": "execute_result"
    }
   ],
   "source": [
    "df.head()"
   ]
  },
  {
   "cell_type": "code",
   "execution_count": 1451,
   "metadata": {},
   "outputs": [
    {
     "data": {
      "text/plain": [
       "0    13.9\n",
       "1     9.1\n",
       "2     8.9\n",
       "3     NaN\n",
       "4     4.9\n",
       "Name: LBXGH, dtype: float64"
      ]
     },
     "execution_count": 1451,
     "metadata": {},
     "output_type": "execute_result"
    }
   ],
   "source": [
    "df['LBXGH'].head()"
   ]
  },
  {
   "cell_type": "code",
   "execution_count": 1452,
   "metadata": {},
   "outputs": [
    {
     "data": {
      "text/plain": [
       "(10175, 65)"
      ]
     },
     "execution_count": 1452,
     "metadata": {},
     "output_type": "execute_result"
    }
   ],
   "source": [
    "df = df[['SEQN','RIAGENDR','RIDAGEYR','RIDAGEMN','RIDRETH1','RIDRETH3','DMDEDUC2','DMDMARTL','INDHHIN2','INDFMPIR','BMXWT','BMXRECUM','BMXHEAD','BMXHT','BMXBMI','BMDBMIC','BPXPLS','BPXSY1','BPXDI1','BPAEN1','BPXDI2','BPXSY2','BPXDI2','BPXSY3','BPXDI3','LBDHDDSI','LBDTCSI', 'DBD895' ,'URXVOL1','URDFLOW1','URXVOL2','URDFLOW2','DIQ010','DID040','HSD010','DPQ010','DPQ020','RHQ160','RHD143','RHD180','SLD010H','SLQ050','PAQ620','PAQ625', 'PAQ635', 'PAQ650' , 'PAQ665' ,'PAQ710' ,'ALQ101','ALQ130','ALQ120Q','SMQ040','SMQ020','SMD030','DUQ200','DUQ211','DUQ213','DUQ240','SXD021','SXD031','SXD101','SXD450','SXQ292', 'LBXGH', 'mortstat']]\n",
    "df.shape"
   ]
  },
  {
   "cell_type": "code",
   "execution_count": 1453,
   "metadata": {},
   "outputs": [
    {
     "data": {
      "text/plain": [
       "(10175, 65)"
      ]
     },
     "execution_count": 1453,
     "metadata": {},
     "output_type": "execute_result"
    }
   ],
   "source": [
    "#Rename variables\n",
    "df.rename(columns={\"RIAGENDR\": \"Gender\", \"RIDAGEYR\": \"Age\", \"RIDAGEMN\": \"AgeDecade\", \"RIDAGEEX\": \"AgeMonths\", \"RIDRETH1\": \"Race1\", \"RIDRETH3\": \"Race3\", \"DMDEDUC2\": \"Education\", \"DMDMARTL\": \"MaritalStatus\", \"INDHHIN2\": \"HHIncome\", \"INDFMPIR\": \"Poverty\", \"BMXWT\": \"Weight\", \"BMXRECUM\": \"Length\", \"BMXHEAD\": \"HeadCirc\", \"BMXHT\" : \"Height\", \"BMXBMI\": \"BMI\", \"BMDBMIC\": \"BMICatUnder20yrs\", \"BPXPLS\": \"Pulse\", \"BPXSY1\": \"BPSysAve\", \"BPXDI1\": \"BPDiaAve\", \"BPAEN1\": \"BPSys1\", \"BPXDI2\": \"BPDia1\", \"BPXSY2\": \"BPSys2\", \"BPXDI2\": \"BPDia2\", \"BPXSY3\": \"BPSys3\", \"BPXDI3\": \"BPDia3\", \"LBDHDDSI\": \"DirectChol\", \"LBDTCSI\": \"TotChol\", \"DBD895\": \"FatFoods\" ,\"URXVOL1\": \"UrineVol1\", \"URDFLOW1\": \"UrineFlow1\", \"URXVOL2\": \"UrineVol2\", \"URDFLOW2\": \"UrineFlow2\", \"DIQ010\": \"Diabetes\", \"DID040\": \"DiabetesAge\", \"HSD010\": \"HealthGen\", \"HSQ470\": \"DaysPhysHlthBad\", \"HSQ480\": \"DaysMentHlthBad\", \"DPQ010\": \"LittleInterest\", \"DPQ020\": \"Depressed\", \"RHQ160\": \"nPregnancies\", \"RHD143\": \"PregnantNow\", \"RHD180\": \"Age1stBaby\", \"SLD010H\": \"SleepHrsNight\", \"SLQ050\": \"SleepTrouble\", \"PAQ620\": \"PhysActive\", \"PAQ625\": \"PhysActiveDays\", \"PAQ635\": \"WalkBic\",  \"PAQ650\": \"VigActiv\", \"PAQ665\": \"ModActiv\" ,\"PAQ710\": \"TVHrsDay\", \"ALQ101\": \"Alcohol12PlusYr\", \"ALQ130\": \"AlcoholDay\", \"ALQ120Q\": \"AlcoholYear\", \"SMQ040\": \"SmokeNow\", \"SMQ020\": \"Smoke100\", \"SMD030\": \"SmokeAge\", \"DUQ200\": \"Marijuana\", \"DUQ211\": \"RegularMarij\", \"DUQ213\": \"AgeRegMarij\", \"DUQ240\": \"HardDrugs\", \"SXD021\": \"SexEver\", \"SXD031\": \"SexAge\", \"SXD101\": \"SexNumPartnLife\", \"SXD450\": \"SexNumPartYear\", \"SXQ292\": \"SexOrientation\", \"LBXGH\": \"GlycoHemoglobin\"}, inplace=True)\n",
    "df.shape"
   ]
  },
  {
   "cell_type": "code",
   "execution_count": 1454,
   "metadata": {},
   "outputs": [],
   "source": [
    "df = df[['SEQN','Gender','Age','Race1','Education','MaritalStatus','Poverty','Weight','Height','BMI','Pulse','BPSysAve','BPDiaAve','DirectChol','TotChol', 'FatFoods' ,'UrineVol1','UrineFlow1','Diabetes','HealthGen','SleepHrsNight','SleepTrouble','PhysActive', 'PhysActiveDays', 'WalkBic', 'VigActiv', 'ModActiv', 'TVHrsDay', 'AlcoholDay', 'AlcoholYear' , 'SmokeNow' ,'Smoke100', 'GlycoHemoglobin', 'mortstat']]"
   ]
  },
  {
   "cell_type": "code",
   "execution_count": 1455,
   "metadata": {},
   "outputs": [],
   "source": [
    "df = df.dropna(thresh=int(df.shape[0] * .3), axis=1)"
   ]
  },
  {
   "cell_type": "code",
   "execution_count": 1456,
   "metadata": {},
   "outputs": [],
   "source": [
    "#df = df.dropna(subset=['mortstat']) "
   ]
  },
  {
   "cell_type": "code",
   "execution_count": 1457,
   "metadata": {},
   "outputs": [
    {
     "data": {
      "text/plain": [
       "(10175, 32)"
      ]
     },
     "execution_count": 1457,
     "metadata": {},
     "output_type": "execute_result"
    }
   ],
   "source": [
    "df.shape"
   ]
  },
  {
   "cell_type": "code",
   "execution_count": 1458,
   "metadata": {},
   "outputs": [
    {
     "data": {
      "text/html": [
       "<div>\n",
       "<style scoped>\n",
       "    .dataframe tbody tr th:only-of-type {\n",
       "        vertical-align: middle;\n",
       "    }\n",
       "\n",
       "    .dataframe tbody tr th {\n",
       "        vertical-align: top;\n",
       "    }\n",
       "\n",
       "    .dataframe thead th {\n",
       "        text-align: right;\n",
       "    }\n",
       "</style>\n",
       "<table border=\"1\" class=\"dataframe\">\n",
       "  <thead>\n",
       "    <tr style=\"text-align: right;\">\n",
       "      <th></th>\n",
       "      <th>SEQN</th>\n",
       "      <th>Gender</th>\n",
       "      <th>Age</th>\n",
       "      <th>Race1</th>\n",
       "      <th>Education</th>\n",
       "      <th>MaritalStatus</th>\n",
       "      <th>Poverty</th>\n",
       "      <th>Weight</th>\n",
       "      <th>Height</th>\n",
       "      <th>BMI</th>\n",
       "      <th>Pulse</th>\n",
       "      <th>BPSysAve</th>\n",
       "      <th>BPDiaAve</th>\n",
       "      <th>DirectChol</th>\n",
       "      <th>TotChol</th>\n",
       "      <th>...</th>\n",
       "      <th>UrineFlow1</th>\n",
       "      <th>Diabetes</th>\n",
       "      <th>HealthGen</th>\n",
       "      <th>SleepHrsNight</th>\n",
       "      <th>SleepTrouble</th>\n",
       "      <th>PhysActive</th>\n",
       "      <th>WalkBic</th>\n",
       "      <th>VigActiv</th>\n",
       "      <th>ModActiv</th>\n",
       "      <th>TVHrsDay</th>\n",
       "      <th>AlcoholDay</th>\n",
       "      <th>AlcoholYear</th>\n",
       "      <th>Smoke100</th>\n",
       "      <th>GlycoHemoglobin</th>\n",
       "      <th>mortstat</th>\n",
       "    </tr>\n",
       "  </thead>\n",
       "  <tbody>\n",
       "    <tr>\n",
       "      <th>0</th>\n",
       "      <td>73557</td>\n",
       "      <td>Male</td>\n",
       "      <td>69</td>\n",
       "      <td>Non-Hispanic Black</td>\n",
       "      <td>High school graduate/GED or equivalent</td>\n",
       "      <td>Separated</td>\n",
       "      <td>0.84</td>\n",
       "      <td>78.3</td>\n",
       "      <td>171.3</td>\n",
       "      <td>26.7</td>\n",
       "      <td>86.0</td>\n",
       "      <td>122.0</td>\n",
       "      <td>72.0</td>\n",
       "      <td>1.68</td>\n",
       "      <td>4.32</td>\n",
       "      <td>...</td>\n",
       "      <td>0.821</td>\n",
       "      <td>Yes</td>\n",
       "      <td>Very good,</td>\n",
       "      <td>7</td>\n",
       "      <td>Yes</td>\n",
       "      <td>No</td>\n",
       "      <td>No</td>\n",
       "      <td>No</td>\n",
       "      <td>No</td>\n",
       "      <td>2 hours,</td>\n",
       "      <td>1</td>\n",
       "      <td>1</td>\n",
       "      <td>Yes</td>\n",
       "      <td>13.9</td>\n",
       "      <td>Assumed Alive</td>\n",
       "    </tr>\n",
       "    <tr>\n",
       "      <th>1</th>\n",
       "      <td>73558</td>\n",
       "      <td>Male</td>\n",
       "      <td>54</td>\n",
       "      <td>Non-Hispanic White</td>\n",
       "      <td>High school graduate/GED or equivalent</td>\n",
       "      <td>Married</td>\n",
       "      <td>1.78</td>\n",
       "      <td>89.5</td>\n",
       "      <td>176.8</td>\n",
       "      <td>28.6</td>\n",
       "      <td>74.0</td>\n",
       "      <td>156.0</td>\n",
       "      <td>62.0</td>\n",
       "      <td>1.29</td>\n",
       "      <td>4.40</td>\n",
       "      <td>...</td>\n",
       "      <td>1.636</td>\n",
       "      <td>Yes</td>\n",
       "      <td>Fair, or</td>\n",
       "      <td>9</td>\n",
       "      <td>No</td>\n",
       "      <td>Yes</td>\n",
       "      <td>No</td>\n",
       "      <td>No</td>\n",
       "      <td>No</td>\n",
       "      <td>4 hours, or</td>\n",
       "      <td>4</td>\n",
       "      <td>7</td>\n",
       "      <td>Yes</td>\n",
       "      <td>9.1</td>\n",
       "      <td>Assumed Alive</td>\n",
       "    </tr>\n",
       "    <tr>\n",
       "      <th>2</th>\n",
       "      <td>73559</td>\n",
       "      <td>Male</td>\n",
       "      <td>72</td>\n",
       "      <td>Non-Hispanic White</td>\n",
       "      <td>Some college or AA degree</td>\n",
       "      <td>Married</td>\n",
       "      <td>4.51</td>\n",
       "      <td>88.9</td>\n",
       "      <td>175.3</td>\n",
       "      <td>28.9</td>\n",
       "      <td>68.0</td>\n",
       "      <td>140.0</td>\n",
       "      <td>90.0</td>\n",
       "      <td>1.55</td>\n",
       "      <td>3.26</td>\n",
       "      <td>...</td>\n",
       "      <td>NaN</td>\n",
       "      <td>Yes</td>\n",
       "      <td>Good,</td>\n",
       "      <td>8</td>\n",
       "      <td>No</td>\n",
       "      <td>Yes</td>\n",
       "      <td>No</td>\n",
       "      <td>No</td>\n",
       "      <td>Yes</td>\n",
       "      <td>4 hours, or</td>\n",
       "      <td>NaN</td>\n",
       "      <td>0</td>\n",
       "      <td>Yes</td>\n",
       "      <td>8.9</td>\n",
       "      <td>Assumed Alive</td>\n",
       "    </tr>\n",
       "    <tr>\n",
       "      <th>3</th>\n",
       "      <td>73560</td>\n",
       "      <td>Male</td>\n",
       "      <td>9</td>\n",
       "      <td>Non-Hispanic White</td>\n",
       "      <td>NaN</td>\n",
       "      <td>NaN</td>\n",
       "      <td>2.52</td>\n",
       "      <td>32.2</td>\n",
       "      <td>137.3</td>\n",
       "      <td>17.1</td>\n",
       "      <td>64.0</td>\n",
       "      <td>108.0</td>\n",
       "      <td>38.0</td>\n",
       "      <td>1.58</td>\n",
       "      <td>4.34</td>\n",
       "      <td>...</td>\n",
       "      <td>0.575</td>\n",
       "      <td>No</td>\n",
       "      <td>NaN</td>\n",
       "      <td>NaN</td>\n",
       "      <td>NaN</td>\n",
       "      <td>NaN</td>\n",
       "      <td>NaN</td>\n",
       "      <td>NaN</td>\n",
       "      <td>NaN</td>\n",
       "      <td>3 hours,</td>\n",
       "      <td>NaN</td>\n",
       "      <td>NaN</td>\n",
       "      <td>NaN</td>\n",
       "      <td>NaN</td>\n",
       "      <td>NaN</td>\n",
       "    </tr>\n",
       "    <tr>\n",
       "      <th>4</th>\n",
       "      <td>73561</td>\n",
       "      <td>Female</td>\n",
       "      <td>73</td>\n",
       "      <td>Non-Hispanic White</td>\n",
       "      <td>College graduate or above</td>\n",
       "      <td>Married</td>\n",
       "      <td>Value greater than or equal to 5.00</td>\n",
       "      <td>52.0</td>\n",
       "      <td>162.4</td>\n",
       "      <td>19.7</td>\n",
       "      <td>92.0</td>\n",
       "      <td>136.0</td>\n",
       "      <td>86.0</td>\n",
       "      <td>2.20</td>\n",
       "      <td>5.20</td>\n",
       "      <td>...</td>\n",
       "      <td>0.109</td>\n",
       "      <td>No</td>\n",
       "      <td>Poor?</td>\n",
       "      <td>9</td>\n",
       "      <td>No</td>\n",
       "      <td>Yes</td>\n",
       "      <td>No</td>\n",
       "      <td>No</td>\n",
       "      <td>No</td>\n",
       "      <td>1 hour,</td>\n",
       "      <td>NaN</td>\n",
       "      <td>0</td>\n",
       "      <td>No</td>\n",
       "      <td>4.9</td>\n",
       "      <td>Assumed Dead</td>\n",
       "    </tr>\n",
       "  </tbody>\n",
       "</table>\n",
       "<p>5 rows × 32 columns</p>\n",
       "</div>"
      ],
      "text/plain": [
       "    SEQN  Gender Age               Race1  \\\n",
       "0  73557    Male  69  Non-Hispanic Black   \n",
       "1  73558    Male  54  Non-Hispanic White   \n",
       "2  73559    Male  72  Non-Hispanic White   \n",
       "3  73560    Male   9  Non-Hispanic White   \n",
       "4  73561  Female  73  Non-Hispanic White   \n",
       "\n",
       "                                Education MaritalStatus  \\\n",
       "0  High school graduate/GED or equivalent     Separated   \n",
       "1  High school graduate/GED or equivalent       Married   \n",
       "2               Some college or AA degree       Married   \n",
       "3                                     NaN           NaN   \n",
       "4               College graduate or above       Married   \n",
       "\n",
       "                               Poverty  Weight  Height   BMI  Pulse  BPSysAve  \\\n",
       "0                                 0.84    78.3   171.3  26.7   86.0     122.0   \n",
       "1                                 1.78    89.5   176.8  28.6   74.0     156.0   \n",
       "2                                 4.51    88.9   175.3  28.9   68.0     140.0   \n",
       "3                                 2.52    32.2   137.3  17.1   64.0     108.0   \n",
       "4  Value greater than or equal to 5.00    52.0   162.4  19.7   92.0     136.0   \n",
       "\n",
       "   BPDiaAve  DirectChol  TotChol  ... UrineFlow1  Diabetes   HealthGen  \\\n",
       "0      72.0        1.68     4.32  ...      0.821       Yes  Very good,   \n",
       "1      62.0        1.29     4.40  ...      1.636       Yes    Fair, or   \n",
       "2      90.0        1.55     3.26  ...        NaN       Yes       Good,   \n",
       "3      38.0        1.58     4.34  ...      0.575        No         NaN   \n",
       "4      86.0        2.20     5.20  ...      0.109        No       Poor?   \n",
       "\n",
       "  SleepHrsNight SleepTrouble PhysActive WalkBic VigActiv ModActiv  \\\n",
       "0             7          Yes         No      No       No       No   \n",
       "1             9           No        Yes      No       No       No   \n",
       "2             8           No        Yes      No       No      Yes   \n",
       "3           NaN          NaN        NaN     NaN      NaN      NaN   \n",
       "4             9           No        Yes      No       No       No   \n",
       "\n",
       "      TVHrsDay AlcoholDay AlcoholYear Smoke100 GlycoHemoglobin       mortstat  \n",
       "0     2 hours,          1           1      Yes            13.9  Assumed Alive  \n",
       "1  4 hours, or          4           7      Yes             9.1  Assumed Alive  \n",
       "2  4 hours, or        NaN           0      Yes             8.9  Assumed Alive  \n",
       "3     3 hours,        NaN         NaN      NaN             NaN            NaN  \n",
       "4      1 hour,        NaN           0       No             4.9   Assumed Dead  \n",
       "\n",
       "[5 rows x 32 columns]"
      ]
     },
     "execution_count": 1458,
     "metadata": {},
     "output_type": "execute_result"
    }
   ],
   "source": [
    "df.head()"
   ]
  },
  {
   "cell_type": "code",
   "execution_count": 1459,
   "metadata": {},
   "outputs": [
    {
     "data": {
      "text/plain": [
       "0                           405\n",
       "80 years of age and over    352\n",
       "2                           278\n",
       "1                           262\n",
       "6                           262\n",
       "7                           233\n",
       "4                           230\n",
       "10                          223\n",
       "11                          223\n",
       "3                           220\n",
       "8                           217\n",
       "9                           213\n",
       "5                           208\n",
       "16                          203\n",
       "14                          203\n",
       "12                          193\n",
       "18                          191\n",
       "15                          176\n",
       "13                          165\n",
       "19                          153\n",
       "17                          148\n",
       "63                          119\n",
       "30                          117\n",
       "41                          116\n",
       "44                          114\n",
       "23                          112\n",
       "60                          112\n",
       "20                          111\n",
       "43                          111\n",
       "36                          109\n",
       "                           ... \n",
       "21                           95\n",
       "39                           94\n",
       "24                           93\n",
       "57                           93\n",
       "59                           93\n",
       "46                           92\n",
       "28                           91\n",
       "26                           91\n",
       "29                           86\n",
       "53                           86\n",
       "54                           84\n",
       "37                           84\n",
       "49                           83\n",
       "65                           82\n",
       "35                           78\n",
       "72                           77\n",
       "67                           77\n",
       "27                           77\n",
       "69                           75\n",
       "70                           75\n",
       "58                           73\n",
       "68                           71\n",
       "71                           66\n",
       "73                           65\n",
       "74                           60\n",
       "75                           51\n",
       "76                           51\n",
       "77                           38\n",
       "78                           36\n",
       "79                           30\n",
       "Name: Age, Length: 81, dtype: int64"
      ]
     },
     "execution_count": 1459,
     "metadata": {},
     "output_type": "execute_result"
    }
   ],
   "source": [
    "df['Age'].value_counts()"
   ]
  },
  {
   "cell_type": "code",
   "execution_count": 1460,
   "metadata": {},
   "outputs": [],
   "source": [
    "df['Age'].replace('80 years of age and over', 80, inplace=True)"
   ]
  },
  {
   "cell_type": "code",
   "execution_count": 1461,
   "metadata": {},
   "outputs": [
    {
     "data": {
      "text/plain": [
       "0     405\n",
       "80    352\n",
       "2     278\n",
       "6     262\n",
       "1     262\n",
       "7     233\n",
       "4     230\n",
       "11    223\n",
       "10    223\n",
       "3     220\n",
       "8     217\n",
       "9     213\n",
       "5     208\n",
       "14    203\n",
       "16    203\n",
       "12    193\n",
       "18    191\n",
       "15    176\n",
       "13    165\n",
       "19    153\n",
       "17    148\n",
       "63    119\n",
       "30    117\n",
       "41    116\n",
       "44    114\n",
       "23    112\n",
       "60    112\n",
       "20    111\n",
       "43    111\n",
       "36    109\n",
       "     ... \n",
       "21     95\n",
       "39     94\n",
       "57     93\n",
       "24     93\n",
       "59     93\n",
       "46     92\n",
       "28     91\n",
       "26     91\n",
       "29     86\n",
       "53     86\n",
       "54     84\n",
       "37     84\n",
       "49     83\n",
       "65     82\n",
       "35     78\n",
       "72     77\n",
       "67     77\n",
       "27     77\n",
       "69     75\n",
       "70     75\n",
       "58     73\n",
       "68     71\n",
       "71     66\n",
       "73     65\n",
       "74     60\n",
       "75     51\n",
       "76     51\n",
       "77     38\n",
       "78     36\n",
       "79     30\n",
       "Name: Age, Length: 81, dtype: int64"
      ]
     },
     "execution_count": 1461,
     "metadata": {},
     "output_type": "execute_result"
    }
   ],
   "source": [
    "df['Age'].value_counts()"
   ]
  },
  {
   "cell_type": "code",
   "execution_count": 1462,
   "metadata": {},
   "outputs": [
    {
     "data": {
      "text/plain": [
       "Non-Hispanic White                     3674\n",
       "Non-Hispanic Black                     2267\n",
       "Mexican American                       1730\n",
       "Other Race - Including Multi-Racial    1544\n",
       "Other Hispanic                          960\n",
       "Name: Race1, dtype: int64"
      ]
     },
     "execution_count": 1462,
     "metadata": {},
     "output_type": "execute_result"
    }
   ],
   "source": [
    "df['Race1'].value_counts()"
   ]
  },
  {
   "cell_type": "code",
   "execution_count": 1463,
   "metadata": {},
   "outputs": [],
   "source": [
    "df['Race1'].replace(['Non-Hispanic White', 'Non-Hispanic Black', 'Other Race - Including Multi-Racial', 'Mexican American', 'Other Hispanic'], ['White', 'Black', 'Other', 'Mexican', 'Hispanic'], inplace = True)"
   ]
  },
  {
   "cell_type": "code",
   "execution_count": 1464,
   "metadata": {},
   "outputs": [
    {
     "data": {
      "text/plain": [
       "White       3674\n",
       "Black       2267\n",
       "Mexican     1730\n",
       "Other       1544\n",
       "Hispanic     960\n",
       "Name: Race1, dtype: int64"
      ]
     },
     "execution_count": 1464,
     "metadata": {},
     "output_type": "execute_result"
    }
   ],
   "source": [
    "df['Race1'].value_counts()"
   ]
  },
  {
   "cell_type": "code",
   "execution_count": 1465,
   "metadata": {},
   "outputs": [
    {
     "data": {
      "text/plain": [
       "0"
      ]
     },
     "execution_count": 1465,
     "metadata": {},
     "output_type": "execute_result"
    }
   ],
   "source": [
    "df['Race1'].isnull().sum()"
   ]
  },
  {
   "cell_type": "code",
   "execution_count": 1466,
   "metadata": {},
   "outputs": [
    {
     "data": {
      "text/plain": [
       "Some college or AA degree                             1770\n",
       "College graduate or above                             1443\n",
       "High school graduate/GED or equivalent                1303\n",
       "9-11th grade (Includes 12th grade with no diploma)     791\n",
       "Less than 9th grade                                    455\n",
       "Don't Know                                               5\n",
       "Refused                                                  2\n",
       "Name: Education, dtype: int64"
      ]
     },
     "execution_count": 1466,
     "metadata": {},
     "output_type": "execute_result"
    }
   ],
   "source": [
    "df['Education'].value_counts()"
   ]
  },
  {
   "cell_type": "code",
   "execution_count": 1467,
   "metadata": {},
   "outputs": [],
   "source": [
    "df['Education'].replace(['Some college or AA degree', 'College graduate or above', 'High school graduate/GED or equivalent', '9-11th grade (Includes 12th grade with no diploma)', 'Less than 9th grade', 'Don\\'t Know', 'Refused'], ['Some College', 'College Grad', 'High School', '9 - 11th Grade', '8th Grade', np.nan, np.nan], inplace = True)"
   ]
  },
  {
   "cell_type": "code",
   "execution_count": 1468,
   "metadata": {},
   "outputs": [
    {
     "data": {
      "text/plain": [
       "Some College      1770\n",
       "College Grad      1443\n",
       "High School       1303\n",
       "9 - 11th Grade     791\n",
       "8th Grade          455\n",
       "Name: Education, dtype: int64"
      ]
     },
     "execution_count": 1468,
     "metadata": {},
     "output_type": "execute_result"
    }
   ],
   "source": [
    "df['Education'].value_counts()"
   ]
  },
  {
   "cell_type": "code",
   "execution_count": 1469,
   "metadata": {},
   "outputs": [
    {
     "data": {
      "text/plain": [
       "4413"
      ]
     },
     "execution_count": 1469,
     "metadata": {},
     "output_type": "execute_result"
    }
   ],
   "source": [
    "df['Education'].isnull().sum()"
   ]
  },
  {
   "cell_type": "code",
   "execution_count": 1470,
   "metadata": {},
   "outputs": [
    {
     "data": {
      "text/plain": [
       "Married                2965\n",
       "Never married          1112\n",
       "Divorced                659\n",
       "Widowed                 436\n",
       "Living with partner     417\n",
       "Separated               177\n",
       "Refused                   2\n",
       "Don't Know                1\n",
       "Name: MaritalStatus, dtype: int64"
      ]
     },
     "execution_count": 1470,
     "metadata": {},
     "output_type": "execute_result"
    }
   ],
   "source": [
    "df['MaritalStatus'].value_counts()"
   ]
  },
  {
   "cell_type": "code",
   "execution_count": 1471,
   "metadata": {},
   "outputs": [],
   "source": [
    "df['MaritalStatus'].replace(['Married', 'Never married', 'Divorced', 'Widowed', 'Living with partner', 'Separated', 'Refused', 'Don\\'t Know'], ['Married', 'NeverMarried', 'Divorced', 'Widowed', 'LivePartner' , 'Separated', np.nan, np.nan], inplace = True)"
   ]
  },
  {
   "cell_type": "code",
   "execution_count": 1472,
   "metadata": {},
   "outputs": [
    {
     "data": {
      "text/plain": [
       "Married         2965\n",
       "NeverMarried    1112\n",
       "Divorced         659\n",
       "Widowed          436\n",
       "LivePartner      417\n",
       "Separated        177\n",
       "Name: MaritalStatus, dtype: int64"
      ]
     },
     "execution_count": 1472,
     "metadata": {},
     "output_type": "execute_result"
    }
   ],
   "source": [
    "df['MaritalStatus'].value_counts()"
   ]
  },
  {
   "cell_type": "code",
   "execution_count": 1473,
   "metadata": {},
   "outputs": [
    {
     "data": {
      "text/plain": [
       "4409"
      ]
     },
     "execution_count": 1473,
     "metadata": {},
     "output_type": "execute_result"
    }
   ],
   "source": [
    "df['MaritalStatus'].isnull().sum()"
   ]
  },
  {
   "cell_type": "code",
   "execution_count": 1474,
   "metadata": {},
   "outputs": [
    {
     "data": {
      "text/plain": [
       "Value greater than or equal to 5.00    1416\n",
       "1.27                                    151\n",
       "0                                       105\n",
       "0.54                                     77\n",
       "0.63                                     74\n",
       "1.02                                     73\n",
       "0.72                                     71\n",
       "4.19                                     66\n",
       "0.86                                     65\n",
       "0.84                                     65\n",
       "0.51                                     61\n",
       "1.29                                     60\n",
       "0.64                                     59\n",
       "1.07                                     58\n",
       "0.76                                     58\n",
       "1.06                                     57\n",
       "1.52                                     55\n",
       "1.04                                     55\n",
       "0.73                                     54\n",
       "0.7                                      53\n",
       "1.43                                     53\n",
       "1.91                                     52\n",
       "0.56                                     51\n",
       "0.47                                     51\n",
       "0.9                                      50\n",
       "3.22                                     49\n",
       "1.54                                     49\n",
       "2.15                                     47\n",
       "1.16                                     46\n",
       "0.61                                     46\n",
       "                                       ... \n",
       "1.87                                      2\n",
       "4.46                                      2\n",
       "3.49                                      2\n",
       "3.39                                      2\n",
       "2.8                                       1\n",
       "3.06                                      1\n",
       "3.88                                      1\n",
       "4.63                                      1\n",
       "1.69                                      1\n",
       "2.08                                      1\n",
       "3.62                                      1\n",
       "4.87                                      1\n",
       "4.96                                      1\n",
       "3.76                                      1\n",
       "1.96                                      1\n",
       "2.91                                      1\n",
       "2.92                                      1\n",
       "3.11                                      1\n",
       "1.9                                       1\n",
       "4.99                                      1\n",
       "4.54                                      1\n",
       "4.09                                      1\n",
       "1.98                                      1\n",
       "2.17                                      1\n",
       "3.16                                      1\n",
       "0.23                                      1\n",
       "3.7                                       1\n",
       "4.83                                      1\n",
       "3.99                                      1\n",
       "1.66                                      1\n",
       "Name: Poverty, Length: 440, dtype: int64"
      ]
     },
     "execution_count": 1474,
     "metadata": {},
     "output_type": "execute_result"
    }
   ],
   "source": [
    "df['Poverty'].value_counts()"
   ]
  },
  {
   "cell_type": "code",
   "execution_count": 1475,
   "metadata": {},
   "outputs": [],
   "source": [
    "df['Poverty'].replace('Value greater than or equal to 5.00', 5, inplace = True)"
   ]
  },
  {
   "cell_type": "code",
   "execution_count": 1476,
   "metadata": {},
   "outputs": [
    {
     "data": {
      "text/plain": [
       "5       1416\n",
       "1.27     151\n",
       "0        105\n",
       "0.54      77\n",
       "0.63      74\n",
       "1.02      73\n",
       "0.72      71\n",
       "4.19      66\n",
       "0.84      65\n",
       "0.86      65\n",
       "0.51      61\n",
       "1.29      60\n",
       "0.64      59\n",
       "1.07      58\n",
       "0.76      58\n",
       "1.06      57\n",
       "1.04      55\n",
       "1.52      55\n",
       "0.73      54\n",
       "1.43      53\n",
       "0.7       53\n",
       "1.91      52\n",
       "0.47      51\n",
       "0.56      51\n",
       "0.9       50\n",
       "3.22      49\n",
       "1.54      49\n",
       "2.15      47\n",
       "1.16      46\n",
       "0.61      46\n",
       "        ... \n",
       "2.84       2\n",
       "4.2        2\n",
       "2.93       2\n",
       "3.64       2\n",
       "3.88       1\n",
       "1.66       1\n",
       "4.96       1\n",
       "4.87       1\n",
       "3.62       1\n",
       "2.92       1\n",
       "4.63       1\n",
       "3.16       1\n",
       "1.98       1\n",
       "3.99       1\n",
       "3.7        1\n",
       "2.08       1\n",
       "3.11       1\n",
       "1.9        1\n",
       "2.17       1\n",
       "4.54       1\n",
       "2.91       1\n",
       "1.96       1\n",
       "4.09       1\n",
       "3.76       1\n",
       "0.23       1\n",
       "1.69       1\n",
       "4.99       1\n",
       "2.8        1\n",
       "3.06       1\n",
       "4.83       1\n",
       "Name: Poverty, Length: 440, dtype: int64"
      ]
     },
     "execution_count": 1476,
     "metadata": {},
     "output_type": "execute_result"
    }
   ],
   "source": [
    "df['Poverty'].value_counts()"
   ]
  },
  {
   "cell_type": "code",
   "execution_count": 1477,
   "metadata": {},
   "outputs": [
    {
     "data": {
      "text/plain": [
       "785"
      ]
     },
     "execution_count": 1477,
     "metadata": {},
     "output_type": "execute_result"
    }
   ],
   "source": [
    "df['Poverty'].isnull().sum()"
   ]
  },
  {
   "cell_type": "code",
   "execution_count": 1478,
   "metadata": {},
   "outputs": [
    {
     "data": {
      "text/plain": [
       "No            8841\n",
       "Yes            737\n",
       "Borderline     185\n",
       "Don't know       5\n",
       "Refused          1\n",
       "Name: Diabetes, dtype: int64"
      ]
     },
     "execution_count": 1478,
     "metadata": {},
     "output_type": "execute_result"
    }
   ],
   "source": [
    "df['Diabetes'].value_counts()"
   ]
  },
  {
   "cell_type": "code",
   "execution_count": 1479,
   "metadata": {},
   "outputs": [],
   "source": [
    "df['Diabetes'].replace(['Borderline', 'Don\\'t know'], [np.nan, np.nan], inplace=True)"
   ]
  },
  {
   "cell_type": "code",
   "execution_count": 1480,
   "metadata": {},
   "outputs": [
    {
     "data": {
      "text/plain": [
       "No         8841\n",
       "Yes         737\n",
       "Refused       1\n",
       "Name: Diabetes, dtype: int64"
      ]
     },
     "execution_count": 1480,
     "metadata": {},
     "output_type": "execute_result"
    }
   ],
   "source": [
    "df['Diabetes'].value_counts()"
   ]
  },
  {
   "cell_type": "code",
   "execution_count": 1481,
   "metadata": {},
   "outputs": [
    {
     "data": {
      "text/plain": [
       "596"
      ]
     },
     "execution_count": 1481,
     "metadata": {},
     "output_type": "execute_result"
    }
   ],
   "source": [
    "df['Diabetes'].isnull().sum()"
   ]
  },
  {
   "cell_type": "code",
   "execution_count": 1482,
   "metadata": {},
   "outputs": [
    {
     "data": {
      "text/plain": [
       "Good,         2605\n",
       "Very good,    1826\n",
       "Fair, or      1186\n",
       "Excellent      641\n",
       "Poor?          208\n",
       "Don't know       1\n",
       "Name: HealthGen, dtype: int64"
      ]
     },
     "execution_count": 1482,
     "metadata": {},
     "output_type": "execute_result"
    }
   ],
   "source": [
    "df['HealthGen'].value_counts()"
   ]
  },
  {
   "cell_type": "code",
   "execution_count": 1483,
   "metadata": {},
   "outputs": [],
   "source": [
    "df['HealthGen'].replace(['Good,', 'Very good,', 'Fair, or', 'Excellent', 'Poor?', 'Don\\'t know'], ['Good', 'Vgood', 'Fair', 'Excellent', 'Poor', np.nan], inplace=True)"
   ]
  },
  {
   "cell_type": "code",
   "execution_count": 1484,
   "metadata": {},
   "outputs": [
    {
     "data": {
      "text/plain": [
       "Good         2605\n",
       "Vgood        1826\n",
       "Fair         1186\n",
       "Excellent     641\n",
       "Poor          208\n",
       "Name: HealthGen, dtype: int64"
      ]
     },
     "execution_count": 1484,
     "metadata": {},
     "output_type": "execute_result"
    }
   ],
   "source": [
    "df['HealthGen'].value_counts()"
   ]
  },
  {
   "cell_type": "code",
   "execution_count": 1485,
   "metadata": {},
   "outputs": [
    {
     "data": {
      "text/plain": [
       "3709"
      ]
     },
     "execution_count": 1485,
     "metadata": {},
     "output_type": "execute_result"
    }
   ],
   "source": [
    "df['HealthGen'].isnull().sum()"
   ]
  },
  {
   "cell_type": "code",
   "execution_count": 1486,
   "metadata": {},
   "outputs": [
    {
     "data": {
      "text/plain": [
       "8                   1697\n",
       "7                   1599\n",
       "6                   1431\n",
       "5                    529\n",
       "9                    343\n",
       "4                    230\n",
       "10                   160\n",
       "7.0                  108\n",
       "8.0                   93\n",
       "6.0                   76\n",
       "12 hours or more      46\n",
       "3                     38\n",
       "5.0                   28\n",
       "9.0                   23\n",
       "2                     21\n",
       "11                    10\n",
       "4.0                   10\n",
       "10.0                   8\n",
       "Don't know             7\n",
       "3.0                    3\n",
       "2.0                    1\n",
       "Name: SleepHrsNight, dtype: int64"
      ]
     },
     "execution_count": 1486,
     "metadata": {},
     "output_type": "execute_result"
    }
   ],
   "source": [
    "df['SleepHrsNight'].value_counts()"
   ]
  },
  {
   "cell_type": "code",
   "execution_count": 1487,
   "metadata": {},
   "outputs": [],
   "source": [
    "df['SleepHrsNight'].replace(['12 hours or more', 'Don\\'t know'], [12, np.nan], inplace=True)"
   ]
  },
  {
   "cell_type": "code",
   "execution_count": 1488,
   "metadata": {},
   "outputs": [
    {
     "data": {
      "text/plain": [
       "8       1697\n",
       "7       1599\n",
       "6       1431\n",
       "5        529\n",
       "9        343\n",
       "4        230\n",
       "10       160\n",
       "7.0      108\n",
       "8.0       93\n",
       "6.0       76\n",
       "12        46\n",
       "3         38\n",
       "5.0       28\n",
       "9.0       23\n",
       "2         21\n",
       "11        10\n",
       "4.0       10\n",
       "10.0       8\n",
       "3.0        3\n",
       "2.0        1\n",
       "Name: SleepHrsNight, dtype: int64"
      ]
     },
     "execution_count": 1488,
     "metadata": {},
     "output_type": "execute_result"
    }
   ],
   "source": [
    "df['SleepHrsNight'].value_counts()"
   ]
  },
  {
   "cell_type": "code",
   "execution_count": 1489,
   "metadata": {},
   "outputs": [
    {
     "data": {
      "text/plain": [
       "3721"
      ]
     },
     "execution_count": 1489,
     "metadata": {},
     "output_type": "execute_result"
    }
   ],
   "source": [
    "df['SleepHrsNight'].isnull().sum()"
   ]
  },
  {
   "cell_type": "code",
   "execution_count": 1490,
   "metadata": {},
   "outputs": [
    {
     "data": {
      "text/plain": [
       "No            4880\n",
       "Yes           1582\n",
       "Don't know       2\n",
       "Name: SleepTrouble, dtype: int64"
      ]
     },
     "execution_count": 1490,
     "metadata": {},
     "output_type": "execute_result"
    }
   ],
   "source": [
    "df['SleepTrouble'].value_counts()"
   ]
  },
  {
   "cell_type": "code",
   "execution_count": 1491,
   "metadata": {},
   "outputs": [],
   "source": [
    "df['SleepTrouble'].replace('Don\\'t know', np.nan, inplace=True)"
   ]
  },
  {
   "cell_type": "code",
   "execution_count": 1492,
   "metadata": {},
   "outputs": [
    {
     "data": {
      "text/plain": [
       "No     4880\n",
       "Yes    1582\n",
       "Name: SleepTrouble, dtype: int64"
      ]
     },
     "execution_count": 1492,
     "metadata": {},
     "output_type": "execute_result"
    }
   ],
   "source": [
    "df['SleepTrouble'].value_counts()"
   ]
  },
  {
   "cell_type": "code",
   "execution_count": 1493,
   "metadata": {},
   "outputs": [
    {
     "data": {
      "text/plain": [
       "3713"
      ]
     },
     "execution_count": 1493,
     "metadata": {},
     "output_type": "execute_result"
    }
   ],
   "source": [
    "df['SleepTrouble'].isnull().sum()"
   ]
  },
  {
   "cell_type": "code",
   "execution_count": 1494,
   "metadata": {},
   "outputs": [
    {
     "data": {
      "text/plain": [
       "No            4837\n",
       "Yes           2308\n",
       "Don't know       2\n",
       "Refused          1\n",
       "Name: PhysActive, dtype: int64"
      ]
     },
     "execution_count": 1494,
     "metadata": {},
     "output_type": "execute_result"
    }
   ],
   "source": [
    "df['PhysActive'].value_counts()"
   ]
  },
  {
   "cell_type": "code",
   "execution_count": 1495,
   "metadata": {},
   "outputs": [],
   "source": [
    "df['PhysActive'].replace(['Don\\'t know', 'Refused'], [np.nan, np.nan], inplace=True)"
   ]
  },
  {
   "cell_type": "code",
   "execution_count": 1496,
   "metadata": {},
   "outputs": [
    {
     "data": {
      "text/plain": [
       "No     4837\n",
       "Yes    2308\n",
       "Name: PhysActive, dtype: int64"
      ]
     },
     "execution_count": 1496,
     "metadata": {},
     "output_type": "execute_result"
    }
   ],
   "source": [
    "df['PhysActive'].value_counts()"
   ]
  },
  {
   "cell_type": "code",
   "execution_count": 1497,
   "metadata": {},
   "outputs": [
    {
     "data": {
      "text/plain": [
       "3030"
      ]
     },
     "execution_count": 1497,
     "metadata": {},
     "output_type": "execute_result"
    }
   ],
   "source": [
    "df['PhysActive'].isnull().sum()"
   ]
  },
  {
   "cell_type": "code",
   "execution_count": 1498,
   "metadata": {},
   "outputs": [
    {
     "data": {
      "text/plain": [
       "No            3532\n",
       "Yes           2579\n",
       "Don't know       2\n",
       "Name: Smoke100, dtype: int64"
      ]
     },
     "execution_count": 1498,
     "metadata": {},
     "output_type": "execute_result"
    }
   ],
   "source": [
    "df['Smoke100'].value_counts()"
   ]
  },
  {
   "cell_type": "code",
   "execution_count": 1499,
   "metadata": {},
   "outputs": [],
   "source": [
    "df['Smoke100'].replace('Don\\'t know', np.nan, inplace=True)"
   ]
  },
  {
   "cell_type": "code",
   "execution_count": 1500,
   "metadata": {},
   "outputs": [
    {
     "data": {
      "text/plain": [
       "No     3532\n",
       "Yes    2579\n",
       "Name: Smoke100, dtype: int64"
      ]
     },
     "execution_count": 1500,
     "metadata": {},
     "output_type": "execute_result"
    }
   ],
   "source": [
    "df['Smoke100'].value_counts()"
   ]
  },
  {
   "cell_type": "code",
   "execution_count": 1501,
   "metadata": {},
   "outputs": [
    {
     "data": {
      "text/plain": [
       "4064"
      ]
     },
     "execution_count": 1501,
     "metadata": {},
     "output_type": "execute_result"
    }
   ],
   "source": [
    "df['Smoke100'].isnull().sum()"
   ]
  },
  {
   "cell_type": "code",
   "execution_count": 1502,
   "metadata": {},
   "outputs": [
    {
     "data": {
      "text/plain": [
       "3028"
      ]
     },
     "execution_count": 1502,
     "metadata": {},
     "output_type": "execute_result"
    }
   ],
   "source": [
    "df['WalkBic'].isnull().sum()"
   ]
  },
  {
   "cell_type": "code",
   "execution_count": 1503,
   "metadata": {},
   "outputs": [
    {
     "data": {
      "text/plain": [
       "No            5099\n",
       "Yes           2047\n",
       "Don't know       1\n",
       "Name: WalkBic, dtype: int64"
      ]
     },
     "execution_count": 1503,
     "metadata": {},
     "output_type": "execute_result"
    }
   ],
   "source": [
    "df['WalkBic'].value_counts()"
   ]
  },
  {
   "cell_type": "code",
   "execution_count": 1504,
   "metadata": {},
   "outputs": [],
   "source": [
    "df['WalkBic'].replace('Don\\'t know', np.nan, inplace=True)"
   ]
  },
  {
   "cell_type": "code",
   "execution_count": 1505,
   "metadata": {},
   "outputs": [
    {
     "data": {
      "text/plain": [
       "No     5099\n",
       "Yes    2047\n",
       "Name: WalkBic, dtype: int64"
      ]
     },
     "execution_count": 1505,
     "metadata": {},
     "output_type": "execute_result"
    }
   ],
   "source": [
    "df['WalkBic'].value_counts()"
   ]
  },
  {
   "cell_type": "code",
   "execution_count": 1506,
   "metadata": {},
   "outputs": [
    {
     "data": {
      "text/plain": [
       "3029"
      ]
     },
     "execution_count": 1506,
     "metadata": {},
     "output_type": "execute_result"
    }
   ],
   "source": [
    "df['WalkBic'].isnull().sum()"
   ]
  },
  {
   "cell_type": "code",
   "execution_count": 1507,
   "metadata": {},
   "outputs": [
    {
     "data": {
      "text/plain": [
       "3028"
      ]
     },
     "execution_count": 1507,
     "metadata": {},
     "output_type": "execute_result"
    }
   ],
   "source": [
    "df['VigActiv'].isnull().sum()"
   ]
  },
  {
   "cell_type": "code",
   "execution_count": 1508,
   "metadata": {},
   "outputs": [
    {
     "data": {
      "text/plain": [
       "No            5087\n",
       "Yes           2059\n",
       "Don't know       1\n",
       "Name: VigActiv, dtype: int64"
      ]
     },
     "execution_count": 1508,
     "metadata": {},
     "output_type": "execute_result"
    }
   ],
   "source": [
    "df['VigActiv'].value_counts()"
   ]
  },
  {
   "cell_type": "code",
   "execution_count": 1509,
   "metadata": {},
   "outputs": [
    {
     "data": {
      "text/plain": [
       "3030"
      ]
     },
     "execution_count": 1509,
     "metadata": {},
     "output_type": "execute_result"
    }
   ],
   "source": [
    "df['ModActiv'].isnull().sum()"
   ]
  },
  {
   "cell_type": "code",
   "execution_count": 1510,
   "metadata": {},
   "outputs": [
    {
     "data": {
      "text/plain": [
       "No            4084\n",
       "Yes           3059\n",
       "Don't know       2\n",
       "Name: ModActiv, dtype: int64"
      ]
     },
     "execution_count": 1510,
     "metadata": {},
     "output_type": "execute_result"
    }
   ],
   "source": [
    "df['ModActiv'].value_counts()"
   ]
  },
  {
   "cell_type": "code",
   "execution_count": 1511,
   "metadata": {},
   "outputs": [
    {
     "data": {
      "text/plain": [
       "727"
      ]
     },
     "execution_count": 1511,
     "metadata": {},
     "output_type": "execute_result"
    }
   ],
   "source": [
    "df['TVHrsDay'].isnull().sum()"
   ]
  },
  {
   "cell_type": "code",
   "execution_count": 1512,
   "metadata": {},
   "outputs": [
    {
     "data": {
      "text/plain": [
       "2 hours,                                      2489\n",
       "1 hour,                                       1776\n",
       "3 hours,                                      1473\n",
       "5 hours or more, or                           1272\n",
       "Less than 1 hour,                             1208\n",
       "4 hours, or                                    985\n",
       "{You don't/SP does not} watch TV or videos     241\n",
       "Don't know                                       3\n",
       "Refused                                          1\n",
       "Name: TVHrsDay, dtype: int64"
      ]
     },
     "execution_count": 1512,
     "metadata": {},
     "output_type": "execute_result"
    }
   ],
   "source": [
    "df['TVHrsDay'].value_counts()"
   ]
  },
  {
   "cell_type": "code",
   "execution_count": 1513,
   "metadata": {},
   "outputs": [],
   "source": [
    "df['TVHrsDay'].replace(['2 hours,' ,'5 hours or more, or' ,'1 hour,' ,'3 hours,' ,'Less than 1 hour,','4 hours, or','{You don\\'t/SP does not} watch TV or videos', 'Don\\'t know', 'Refused'], [2, 5, 1, 3, 0.5, 4, 0 ,np.nan, np.nan], inplace=True)"
   ]
  },
  {
   "cell_type": "code",
   "execution_count": 1514,
   "metadata": {},
   "outputs": [
    {
     "data": {
      "text/plain": [
       "2.0    2489\n",
       "1.0    1776\n",
       "3.0    1473\n",
       "5.0    1272\n",
       "0.5    1208\n",
       "4.0     985\n",
       "0.0     241\n",
       "Name: TVHrsDay, dtype: int64"
      ]
     },
     "execution_count": 1514,
     "metadata": {},
     "output_type": "execute_result"
    }
   ],
   "source": [
    "df['TVHrsDay'].value_counts()"
   ]
  },
  {
   "cell_type": "code",
   "execution_count": 1515,
   "metadata": {},
   "outputs": [
    {
     "data": {
      "text/plain": [
       "731"
      ]
     },
     "execution_count": 1515,
     "metadata": {},
     "output_type": "execute_result"
    }
   ],
   "source": [
    "df['TVHrsDay'].isnull().sum()"
   ]
  },
  {
   "cell_type": "code",
   "execution_count": 1516,
   "metadata": {},
   "outputs": [
    {
     "data": {
      "text/plain": [
       "472"
      ]
     },
     "execution_count": 1516,
     "metadata": {},
     "output_type": "execute_result"
    }
   ],
   "source": [
    "df['FatFoods'].isnull().sum()"
   ]
  },
  {
   "cell_type": "code",
   "execution_count": 1517,
   "metadata": {},
   "outputs": [
    {
     "data": {
      "text/plain": [
       "None                           2362\n",
       "1                              1843\n",
       "2                              1693\n",
       "3                              1242\n",
       "4                               652\n",
       "5                               583\n",
       "7                               424\n",
       "10                              210\n",
       "6                               169\n",
       "14                              127\n",
       "8                                82\n",
       "12                               60\n",
       "21                               58\n",
       "15                               57\n",
       "9                                42\n",
       "20                               26\n",
       "Dont Know                        15\n",
       "11                               13\n",
       "16                               10\n",
       "17                                9\n",
       "13                                8\n",
       "19                                7\n",
       "More than 21 meals per week       5\n",
       "18                                5\n",
       "Refused                           1\n",
       "Name: FatFoods, dtype: int64"
      ]
     },
     "execution_count": 1517,
     "metadata": {},
     "output_type": "execute_result"
    }
   ],
   "source": [
    "df['FatFoods'].value_counts()"
   ]
  },
  {
   "cell_type": "code",
   "execution_count": 1518,
   "metadata": {},
   "outputs": [],
   "source": [
    "df['FatFoods'].replace(['None', 'Dont Know', 'More than 21 meals per week'], [0, np.nan, 22], inplace=True)"
   ]
  },
  {
   "cell_type": "code",
   "execution_count": 1519,
   "metadata": {},
   "outputs": [
    {
     "data": {
      "text/plain": [
       "487"
      ]
     },
     "execution_count": 1519,
     "metadata": {},
     "output_type": "execute_result"
    }
   ],
   "source": [
    "df['FatFoods'].isnull().sum()"
   ]
  },
  {
   "cell_type": "code",
   "execution_count": 1520,
   "metadata": {},
   "outputs": [
    {
     "data": {
      "text/plain": [
       "0          2362\n",
       "1          1843\n",
       "2          1693\n",
       "3          1242\n",
       "4           652\n",
       "5           583\n",
       "7           424\n",
       "10          210\n",
       "6           169\n",
       "14          127\n",
       "8            82\n",
       "12           60\n",
       "21           58\n",
       "15           57\n",
       "9            42\n",
       "20           26\n",
       "11           13\n",
       "16           10\n",
       "17            9\n",
       "13            8\n",
       "19            7\n",
       "18            5\n",
       "22            5\n",
       "Refused       1\n",
       "Name: FatFoods, dtype: int64"
      ]
     },
     "execution_count": 1520,
     "metadata": {},
     "output_type": "execute_result"
    }
   ],
   "source": [
    "df['FatFoods'].value_counts()"
   ]
  },
  {
   "cell_type": "code",
   "execution_count": 1521,
   "metadata": {},
   "outputs": [
    {
     "data": {
      "text/plain": [
       "6579"
      ]
     },
     "execution_count": 1521,
     "metadata": {},
     "output_type": "execute_result"
    }
   ],
   "source": [
    "df['AlcoholDay'].isnull().sum()"
   ]
  },
  {
   "cell_type": "code",
   "execution_count": 1522,
   "metadata": {},
   "outputs": [
    {
     "data": {
      "text/plain": [
       "1.0           1101\n",
       "2.0            846\n",
       "3.0            465\n",
       "4.0            249\n",
       "1              179\n",
       "2              156\n",
       "6.0            138\n",
       "5.0            133\n",
       "3               71\n",
       "8.0             42\n",
       "12.0            36\n",
       "4               34\n",
       "10.0            26\n",
       "5               21\n",
       "6               18\n",
       "7.0             18\n",
       "8               12\n",
       "12               7\n",
       "7                5\n",
       "15.0             5\n",
       "13.0             5\n",
       "16.0             4\n",
       "11.0             4\n",
       "9.0              4\n",
       "20.0             4\n",
       "Don't know       3\n",
       "10               2\n",
       "14.0             2\n",
       "18.0             2\n",
       "15               1\n",
       "24.0             1\n",
       "25.0             1\n",
       "18               1\n",
       "Name: AlcoholDay, dtype: int64"
      ]
     },
     "execution_count": 1522,
     "metadata": {},
     "output_type": "execute_result"
    }
   ],
   "source": [
    "df['AlcoholDay'].value_counts()"
   ]
  },
  {
   "cell_type": "code",
   "execution_count": 1523,
   "metadata": {},
   "outputs": [],
   "source": [
    "df['AlcoholDay'].replace('Don\\'t know', np.nan, inplace=True)"
   ]
  },
  {
   "cell_type": "code",
   "execution_count": 1524,
   "metadata": {},
   "outputs": [
    {
     "data": {
      "text/plain": [
       "6582"
      ]
     },
     "execution_count": 1524,
     "metadata": {},
     "output_type": "execute_result"
    }
   ],
   "source": [
    "df['AlcoholDay'].isnull().sum()"
   ]
  },
  {
   "cell_type": "code",
   "execution_count": 1525,
   "metadata": {},
   "outputs": [
    {
     "data": {
      "text/plain": [
       "1.0     1101\n",
       "2.0      846\n",
       "3.0      465\n",
       "4.0      249\n",
       "1        179\n",
       "2        156\n",
       "6.0      138\n",
       "5.0      133\n",
       "3         71\n",
       "8.0       42\n",
       "12.0      36\n",
       "4         34\n",
       "10.0      26\n",
       "5         21\n",
       "7.0       18\n",
       "6         18\n",
       "8         12\n",
       "12         7\n",
       "15.0       5\n",
       "13.0       5\n",
       "7          5\n",
       "9.0        4\n",
       "16.0       4\n",
       "11.0       4\n",
       "20.0       4\n",
       "14.0       2\n",
       "18.0       2\n",
       "10         2\n",
       "15         1\n",
       "24.0       1\n",
       "25.0       1\n",
       "18         1\n",
       "Name: AlcoholDay, dtype: int64"
      ]
     },
     "execution_count": 1525,
     "metadata": {},
     "output_type": "execute_result"
    }
   ],
   "source": [
    "df['AlcoholDay'].value_counts()"
   ]
  },
  {
   "cell_type": "code",
   "execution_count": 1526,
   "metadata": {},
   "outputs": [
    {
     "data": {
      "text/plain": [
       "5696"
      ]
     },
     "execution_count": 1526,
     "metadata": {},
     "output_type": "execute_result"
    }
   ],
   "source": [
    "df['AlcoholYear'].isnull().sum()"
   ]
  },
  {
   "cell_type": "code",
   "execution_count": 1527,
   "metadata": {},
   "outputs": [
    {
     "data": {
      "text/plain": [
       "1.0           851\n",
       "2.0           702\n",
       "0.0           692\n",
       "3.0           437\n",
       "4.0           231\n",
       "5.0           215\n",
       "1             195\n",
       "0             190\n",
       "2             182\n",
       "7.0           164\n",
       "6.0           117\n",
       "3              87\n",
       "4              71\n",
       "10.0           50\n",
       "5              50\n",
       "7              30\n",
       "6              24\n",
       "15.0           21\n",
       "20.0           21\n",
       "10             20\n",
       "8.0            19\n",
       "12.0           18\n",
       "30.0           17\n",
       "12              6\n",
       "365.0           6\n",
       "14.0            5\n",
       "8               4\n",
       "Don't know      4\n",
       "20              3\n",
       "25.0            3\n",
       "             ... \n",
       "28.0            2\n",
       "11.0            2\n",
       "24.0            2\n",
       "100.0           2\n",
       "14              1\n",
       "13.0            1\n",
       "15              1\n",
       "17.0            1\n",
       "18.0            1\n",
       "120             1\n",
       "45.0            1\n",
       "35.0            1\n",
       "25              1\n",
       "350.0           1\n",
       "80              1\n",
       "305.0           1\n",
       "300.0           1\n",
       "200.0           1\n",
       "182.0           1\n",
       "160.0           1\n",
       "112.0           1\n",
       "40.0            1\n",
       "96.0            1\n",
       "90.0            1\n",
       "80.0            1\n",
       "40              1\n",
       "52.0            1\n",
       "9               1\n",
       "180             1\n",
       "61.0            1\n",
       "Name: AlcoholYear, Length: 64, dtype: int64"
      ]
     },
     "execution_count": 1527,
     "metadata": {},
     "output_type": "execute_result"
    }
   ],
   "source": [
    "df['AlcoholYear'].value_counts()"
   ]
  },
  {
   "cell_type": "code",
   "execution_count": 1528,
   "metadata": {},
   "outputs": [],
   "source": [
    "df['AlcoholYear'].replace('Don\\'t know', np.nan, inplace=True)"
   ]
  },
  {
   "cell_type": "code",
   "execution_count": 1529,
   "metadata": {},
   "outputs": [
    {
     "data": {
      "text/plain": [
       "5700"
      ]
     },
     "execution_count": 1529,
     "metadata": {},
     "output_type": "execute_result"
    }
   ],
   "source": [
    "df['AlcoholYear'].isnull().sum()"
   ]
  },
  {
   "cell_type": "code",
   "execution_count": 1530,
   "metadata": {},
   "outputs": [
    {
     "data": {
      "text/plain": [
       "1.0      851\n",
       "2.0      702\n",
       "0.0      692\n",
       "3.0      437\n",
       "4.0      231\n",
       "5.0      215\n",
       "1        195\n",
       "0        190\n",
       "2        182\n",
       "7.0      164\n",
       "6.0      117\n",
       "3         87\n",
       "4         71\n",
       "5         50\n",
       "10.0      50\n",
       "7         30\n",
       "6         24\n",
       "20.0      21\n",
       "15.0      21\n",
       "10        20\n",
       "8.0       19\n",
       "12.0      18\n",
       "30.0      17\n",
       "12         6\n",
       "365.0      6\n",
       "14.0       5\n",
       "8          4\n",
       "9.0        3\n",
       "25.0       3\n",
       "20         3\n",
       "        ... \n",
       "16.0       2\n",
       "100.0      2\n",
       "24.0       2\n",
       "28.0       2\n",
       "18.0       1\n",
       "15         1\n",
       "14         1\n",
       "13.0       1\n",
       "350.0      1\n",
       "17.0       1\n",
       "120        1\n",
       "300.0      1\n",
       "305.0      1\n",
       "35.0       1\n",
       "200.0      1\n",
       "182.0      1\n",
       "160.0      1\n",
       "25         1\n",
       "112.0      1\n",
       "96.0       1\n",
       "90.0       1\n",
       "80         1\n",
       "40         1\n",
       "61.0       1\n",
       "52.0       1\n",
       "9          1\n",
       "180        1\n",
       "45.0       1\n",
       "40.0       1\n",
       "80.0       1\n",
       "Name: AlcoholYear, Length: 63, dtype: int64"
      ]
     },
     "execution_count": 1530,
     "metadata": {},
     "output_type": "execute_result"
    }
   ],
   "source": [
    "df['AlcoholYear'].value_counts()"
   ]
  },
  {
   "cell_type": "code",
   "execution_count": 1531,
   "metadata": {},
   "outputs": [
    {
     "data": {
      "text/plain": [
       "596"
      ]
     },
     "execution_count": 1531,
     "metadata": {},
     "output_type": "execute_result"
    }
   ],
   "source": [
    "df['Diabetes'].isnull().sum()"
   ]
  },
  {
   "cell_type": "code",
   "execution_count": 1532,
   "metadata": {},
   "outputs": [
    {
     "data": {
      "text/plain": [
       "No         8841\n",
       "Yes         737\n",
       "Refused       1\n",
       "Name: Diabetes, dtype: int64"
      ]
     },
     "execution_count": 1532,
     "metadata": {},
     "output_type": "execute_result"
    }
   ],
   "source": [
    "df['Diabetes'].value_counts()"
   ]
  },
  {
   "cell_type": "code",
   "execution_count": 1533,
   "metadata": {},
   "outputs": [
    {
     "data": {
      "text/plain": [
       "5.4     676\n",
       "5.3     644\n",
       "5.2     598\n",
       "5.5     594\n",
       "5.1     487\n",
       "5.6     458\n",
       "5.0     389\n",
       "5.7     381\n",
       "5.8     294\n",
       "4.9     251\n",
       "5.9     243\n",
       "6.0     202\n",
       "4.8     156\n",
       "6.1     141\n",
       "4.7     109\n",
       "6.2      88\n",
       "6.3      79\n",
       "6.4      77\n",
       "4.6      73\n",
       "6.6      54\n",
       "6.5      47\n",
       "6.7      40\n",
       "4.5      38\n",
       "7.0      34\n",
       "6.8      32\n",
       "4.4      31\n",
       "7.1      26\n",
       "6.9      24\n",
       "7.2      22\n",
       "7.6      18\n",
       "       ... \n",
       "9.7       3\n",
       "9.0       3\n",
       "11.5      3\n",
       "14.4      3\n",
       "11.3      2\n",
       "12.0      2\n",
       "12.4      2\n",
       "11.7      2\n",
       "10.4      2\n",
       "15.4      1\n",
       "13.6      1\n",
       "13.9      1\n",
       "3.5       1\n",
       "17.5      1\n",
       "13.7      1\n",
       "13.2      1\n",
       "14.7      1\n",
       "9.9       1\n",
       "12.2      1\n",
       "3.7       1\n",
       "11.8      1\n",
       "12.6      1\n",
       "12.3      1\n",
       "3.8       1\n",
       "14.3      1\n",
       "12.7      1\n",
       "13.4      1\n",
       "9.5       1\n",
       "3.9       1\n",
       "11.9      1\n",
       "Name: GlycoHemoglobin, Length: 100, dtype: int64"
      ]
     },
     "execution_count": 1533,
     "metadata": {},
     "output_type": "execute_result"
    }
   ],
   "source": [
    "df['GlycoHemoglobin'].value_counts()"
   ]
  },
  {
   "cell_type": "code",
   "execution_count": 1534,
   "metadata": {},
   "outputs": [
    {
     "data": {
      "text/plain": [
       "3532"
      ]
     },
     "execution_count": 1534,
     "metadata": {},
     "output_type": "execute_result"
    }
   ],
   "source": [
    "df['GlycoHemoglobin'].isnull().sum()"
   ]
  },
  {
   "cell_type": "code",
   "execution_count": 1535,
   "metadata": {},
   "outputs": [],
   "source": [
    "pd.set_option('display.max_columns', 32)"
   ]
  },
  {
   "cell_type": "code",
   "execution_count": 1536,
   "metadata": {},
   "outputs": [],
   "source": [
    "df.drop(df.columns[[0]], axis=1, inplace=True)\n",
    "df.drop(['Race1', 'Education', 'MaritalStatus'], axis=1, inplace=True)"
   ]
  },
  {
   "cell_type": "code",
   "execution_count": 1537,
   "metadata": {},
   "outputs": [],
   "source": [
    "num_cols = ['Age', 'Poverty', 'Weight', 'Height', 'BMI', 'Pulse', 'BPSysAve', 'BPDiaAve', 'DirectChol', 'TotChol', 'FatFoods', 'UrineVol1', 'UrineFlow1', 'SleepHrsNight', 'TVHrsDay', 'AlcoholDay', 'AlcoholYear', 'GlycoHemoglobin']"
   ]
  },
  {
   "cell_type": "code",
   "execution_count": 1538,
   "metadata": {},
   "outputs": [],
   "source": [
    "cate_cols = df.columns.drop(num_cols)"
   ]
  },
  {
   "cell_type": "code",
   "execution_count": 1539,
   "metadata": {},
   "outputs": [],
   "source": [
    "df[num_cols] = df[num_cols].apply(pd.to_numeric, errors='coerce')"
   ]
  },
  {
   "cell_type": "code",
   "execution_count": 1540,
   "metadata": {},
   "outputs": [
    {
     "name": "stdout",
     "output_type": "stream",
     "text": [
      "<class 'pandas.core.frame.DataFrame'>\n",
      "RangeIndex: 10175 entries, 0 to 10174\n",
      "Data columns (total 28 columns):\n",
      "Gender             10175 non-null object\n",
      "Age                10175 non-null int64\n",
      "Poverty            9390 non-null float64\n",
      "Weight             9723 non-null float64\n",
      "Height             9067 non-null float64\n",
      "BMI                9055 non-null float64\n",
      "Pulse              7549 non-null float64\n",
      "BPSysAve           7172 non-null float64\n",
      "BPDiaAve           7172 non-null float64\n",
      "DirectChol         7624 non-null float64\n",
      "TotChol            7624 non-null float64\n",
      "FatFoods           9687 non-null float64\n",
      "UrineVol1          8057 non-null float64\n",
      "UrineFlow1         7150 non-null float64\n",
      "Diabetes           9579 non-null object\n",
      "HealthGen          6466 non-null object\n",
      "SleepHrsNight      6454 non-null float64\n",
      "SleepTrouble       6462 non-null object\n",
      "PhysActive         7145 non-null object\n",
      "WalkBic            7146 non-null object\n",
      "VigActiv           7147 non-null object\n",
      "ModActiv           7145 non-null object\n",
      "TVHrsDay           9444 non-null float64\n",
      "AlcoholDay         3593 non-null float64\n",
      "AlcoholYear        4475 non-null float64\n",
      "Smoke100           6111 non-null object\n",
      "GlycoHemoglobin    6643 non-null float64\n",
      "mortstat           6100 non-null object\n",
      "dtypes: float64(17), int64(1), object(10)\n",
      "memory usage: 2.2+ MB\n"
     ]
    }
   ],
   "source": [
    "df.info()"
   ]
  },
  {
   "cell_type": "code",
   "execution_count": 1541,
   "metadata": {},
   "outputs": [
    {
     "data": {
      "text/plain": [
       "Gender          2\n",
       "Diabetes        3\n",
       "HealthGen       5\n",
       "SleepTrouble    2\n",
       "PhysActive      2\n",
       "WalkBic         2\n",
       "VigActiv        3\n",
       "ModActiv        3\n",
       "Smoke100        2\n",
       "mortstat        2\n",
       "dtype: int64"
      ]
     },
     "execution_count": 1541,
     "metadata": {},
     "output_type": "execute_result"
    }
   ],
   "source": [
    "df[cate_cols].apply(lambda x: x.nunique(), axis=0)"
   ]
  },
  {
   "cell_type": "code",
   "execution_count": 1542,
   "metadata": {},
   "outputs": [
    {
     "data": {
      "text/plain": [
       "Female    5172\n",
       "Male      5003\n",
       "Name: Gender, dtype: int64"
      ]
     },
     "execution_count": 1542,
     "metadata": {},
     "output_type": "execute_result"
    }
   ],
   "source": [
    "df['Gender'].value_counts()"
   ]
  },
  {
   "cell_type": "code",
   "execution_count": 1543,
   "metadata": {},
   "outputs": [],
   "source": [
    "df['mortstat'] = df['mortstat'].apply(lambda x: 1 if x=='Assumed Alive' else 0)\n",
    "df['Diabetes'] = df['Diabetes'].apply(lambda x: 1 if x=='Yes' else 0)\n",
    "df['PhysActive'] = df['PhysActive'].apply(lambda x: 1 if x=='Yes' else 0)\n",
    "df['WalkBic'] = df['WalkBic'].apply(lambda x: 1 if x=='Yes' else 0)\n",
    "df['VigActiv'] = df['VigActiv'].apply(lambda x: 1 if x=='Yes' else 0)\n",
    "df['ModActiv'] = df['ModActiv'].apply(lambda x: 1 if x=='Yes' else 0)\n",
    "df['Smoke100'] = df['Smoke100'].apply(lambda x: 1 if x=='Yes' else 0)\n",
    "df['Gender'] = df['Gender'].apply(lambda x: 1 if x=='Male' else 0)"
   ]
  },
  {
   "cell_type": "code",
   "execution_count": 1545,
   "metadata": {},
   "outputs": [
    {
     "data": {
      "text/html": [
       "<div>\n",
       "<style scoped>\n",
       "    .dataframe tbody tr th:only-of-type {\n",
       "        vertical-align: middle;\n",
       "    }\n",
       "\n",
       "    .dataframe tbody tr th {\n",
       "        vertical-align: top;\n",
       "    }\n",
       "\n",
       "    .dataframe thead th {\n",
       "        text-align: right;\n",
       "    }\n",
       "</style>\n",
       "<table border=\"1\" class=\"dataframe\">\n",
       "  <thead>\n",
       "    <tr style=\"text-align: right;\">\n",
       "      <th></th>\n",
       "      <th>Gender</th>\n",
       "      <th>Age</th>\n",
       "      <th>Poverty</th>\n",
       "      <th>Weight</th>\n",
       "      <th>Height</th>\n",
       "      <th>BMI</th>\n",
       "      <th>Pulse</th>\n",
       "      <th>BPSysAve</th>\n",
       "      <th>BPDiaAve</th>\n",
       "      <th>DirectChol</th>\n",
       "      <th>TotChol</th>\n",
       "      <th>FatFoods</th>\n",
       "      <th>UrineVol1</th>\n",
       "      <th>UrineFlow1</th>\n",
       "      <th>Diabetes</th>\n",
       "      <th>HealthGen</th>\n",
       "      <th>SleepHrsNight</th>\n",
       "      <th>SleepTrouble</th>\n",
       "      <th>PhysActive</th>\n",
       "      <th>WalkBic</th>\n",
       "      <th>VigActiv</th>\n",
       "      <th>ModActiv</th>\n",
       "      <th>TVHrsDay</th>\n",
       "      <th>AlcoholDay</th>\n",
       "      <th>AlcoholYear</th>\n",
       "      <th>Smoke100</th>\n",
       "      <th>GlycoHemoglobin</th>\n",
       "      <th>mortstat</th>\n",
       "    </tr>\n",
       "  </thead>\n",
       "  <tbody>\n",
       "    <tr>\n",
       "      <th>0</th>\n",
       "      <td>1</td>\n",
       "      <td>69</td>\n",
       "      <td>0.84</td>\n",
       "      <td>78.3</td>\n",
       "      <td>171.3</td>\n",
       "      <td>26.7</td>\n",
       "      <td>86.0</td>\n",
       "      <td>122.0</td>\n",
       "      <td>72.0</td>\n",
       "      <td>1.68</td>\n",
       "      <td>4.32</td>\n",
       "      <td>8.0</td>\n",
       "      <td>87.0</td>\n",
       "      <td>0.821</td>\n",
       "      <td>1</td>\n",
       "      <td>Vgood</td>\n",
       "      <td>7.0</td>\n",
       "      <td>Yes</td>\n",
       "      <td>0</td>\n",
       "      <td>0</td>\n",
       "      <td>0</td>\n",
       "      <td>0</td>\n",
       "      <td>2.0</td>\n",
       "      <td>1.0</td>\n",
       "      <td>1.0</td>\n",
       "      <td>1</td>\n",
       "      <td>13.9</td>\n",
       "      <td>1</td>\n",
       "    </tr>\n",
       "    <tr>\n",
       "      <th>1</th>\n",
       "      <td>1</td>\n",
       "      <td>54</td>\n",
       "      <td>1.78</td>\n",
       "      <td>89.5</td>\n",
       "      <td>176.8</td>\n",
       "      <td>28.6</td>\n",
       "      <td>74.0</td>\n",
       "      <td>156.0</td>\n",
       "      <td>62.0</td>\n",
       "      <td>1.29</td>\n",
       "      <td>4.40</td>\n",
       "      <td>0.0</td>\n",
       "      <td>90.0</td>\n",
       "      <td>1.636</td>\n",
       "      <td>1</td>\n",
       "      <td>Fair</td>\n",
       "      <td>9.0</td>\n",
       "      <td>No</td>\n",
       "      <td>1</td>\n",
       "      <td>0</td>\n",
       "      <td>0</td>\n",
       "      <td>0</td>\n",
       "      <td>4.0</td>\n",
       "      <td>4.0</td>\n",
       "      <td>7.0</td>\n",
       "      <td>1</td>\n",
       "      <td>9.1</td>\n",
       "      <td>1</td>\n",
       "    </tr>\n",
       "    <tr>\n",
       "      <th>2</th>\n",
       "      <td>1</td>\n",
       "      <td>72</td>\n",
       "      <td>4.51</td>\n",
       "      <td>88.9</td>\n",
       "      <td>175.3</td>\n",
       "      <td>28.9</td>\n",
       "      <td>68.0</td>\n",
       "      <td>140.0</td>\n",
       "      <td>90.0</td>\n",
       "      <td>1.55</td>\n",
       "      <td>3.26</td>\n",
       "      <td>1.0</td>\n",
       "      <td>66.0</td>\n",
       "      <td>NaN</td>\n",
       "      <td>1</td>\n",
       "      <td>Good</td>\n",
       "      <td>8.0</td>\n",
       "      <td>No</td>\n",
       "      <td>1</td>\n",
       "      <td>0</td>\n",
       "      <td>0</td>\n",
       "      <td>1</td>\n",
       "      <td>4.0</td>\n",
       "      <td>NaN</td>\n",
       "      <td>0.0</td>\n",
       "      <td>1</td>\n",
       "      <td>8.9</td>\n",
       "      <td>1</td>\n",
       "    </tr>\n",
       "    <tr>\n",
       "      <th>3</th>\n",
       "      <td>1</td>\n",
       "      <td>9</td>\n",
       "      <td>2.52</td>\n",
       "      <td>32.2</td>\n",
       "      <td>137.3</td>\n",
       "      <td>17.1</td>\n",
       "      <td>64.0</td>\n",
       "      <td>108.0</td>\n",
       "      <td>38.0</td>\n",
       "      <td>1.58</td>\n",
       "      <td>4.34</td>\n",
       "      <td>0.0</td>\n",
       "      <td>61.0</td>\n",
       "      <td>0.575</td>\n",
       "      <td>0</td>\n",
       "      <td>NaN</td>\n",
       "      <td>NaN</td>\n",
       "      <td>NaN</td>\n",
       "      <td>0</td>\n",
       "      <td>0</td>\n",
       "      <td>0</td>\n",
       "      <td>0</td>\n",
       "      <td>3.0</td>\n",
       "      <td>NaN</td>\n",
       "      <td>NaN</td>\n",
       "      <td>0</td>\n",
       "      <td>NaN</td>\n",
       "      <td>0</td>\n",
       "    </tr>\n",
       "    <tr>\n",
       "      <th>4</th>\n",
       "      <td>0</td>\n",
       "      <td>73</td>\n",
       "      <td>5.00</td>\n",
       "      <td>52.0</td>\n",
       "      <td>162.4</td>\n",
       "      <td>19.7</td>\n",
       "      <td>92.0</td>\n",
       "      <td>136.0</td>\n",
       "      <td>86.0</td>\n",
       "      <td>2.20</td>\n",
       "      <td>5.20</td>\n",
       "      <td>0.0</td>\n",
       "      <td>5.0</td>\n",
       "      <td>0.109</td>\n",
       "      <td>0</td>\n",
       "      <td>Poor</td>\n",
       "      <td>9.0</td>\n",
       "      <td>No</td>\n",
       "      <td>1</td>\n",
       "      <td>0</td>\n",
       "      <td>0</td>\n",
       "      <td>0</td>\n",
       "      <td>1.0</td>\n",
       "      <td>NaN</td>\n",
       "      <td>0.0</td>\n",
       "      <td>0</td>\n",
       "      <td>4.9</td>\n",
       "      <td>0</td>\n",
       "    </tr>\n",
       "  </tbody>\n",
       "</table>\n",
       "</div>"
      ],
      "text/plain": [
       "   Gender  Age  Poverty  Weight  Height   BMI  Pulse  BPSysAve  BPDiaAve  \\\n",
       "0       1   69     0.84    78.3   171.3  26.7   86.0     122.0      72.0   \n",
       "1       1   54     1.78    89.5   176.8  28.6   74.0     156.0      62.0   \n",
       "2       1   72     4.51    88.9   175.3  28.9   68.0     140.0      90.0   \n",
       "3       1    9     2.52    32.2   137.3  17.1   64.0     108.0      38.0   \n",
       "4       0   73     5.00    52.0   162.4  19.7   92.0     136.0      86.0   \n",
       "\n",
       "   DirectChol  TotChol  FatFoods  UrineVol1  UrineFlow1  Diabetes HealthGen  \\\n",
       "0        1.68     4.32       8.0       87.0       0.821         1     Vgood   \n",
       "1        1.29     4.40       0.0       90.0       1.636         1      Fair   \n",
       "2        1.55     3.26       1.0       66.0         NaN         1      Good   \n",
       "3        1.58     4.34       0.0       61.0       0.575         0       NaN   \n",
       "4        2.20     5.20       0.0        5.0       0.109         0      Poor   \n",
       "\n",
       "   SleepHrsNight SleepTrouble  PhysActive  WalkBic  VigActiv  ModActiv  \\\n",
       "0            7.0          Yes           0        0         0         0   \n",
       "1            9.0           No           1        0         0         0   \n",
       "2            8.0           No           1        0         0         1   \n",
       "3            NaN          NaN           0        0         0         0   \n",
       "4            9.0           No           1        0         0         0   \n",
       "\n",
       "   TVHrsDay  AlcoholDay  AlcoholYear  Smoke100  GlycoHemoglobin  mortstat  \n",
       "0       2.0         1.0          1.0         1             13.9         1  \n",
       "1       4.0         4.0          7.0         1              9.1         1  \n",
       "2       4.0         NaN          0.0         1              8.9         1  \n",
       "3       3.0         NaN          NaN         0              NaN         0  \n",
       "4       1.0         NaN          0.0         0              4.9         0  "
      ]
     },
     "execution_count": 1545,
     "metadata": {},
     "output_type": "execute_result"
    }
   ],
   "source": [
    "df.head()"
   ]
  },
  {
   "cell_type": "code",
   "execution_count": 1546,
   "metadata": {},
   "outputs": [],
   "source": [
    "num_imputer = SimpleImputer(strategy='median')\n",
    "df[num_cols] = num_imputer.fit_transform(df[num_cols])\n",
    "cate_imputer = Categorical_Imputer('most_frequent')\n",
    "df[cate_cols] = cate_imputer.fit_transform(df[cate_cols])"
   ]
  },
  {
   "cell_type": "code",
   "execution_count": 1547,
   "metadata": {},
   "outputs": [
    {
     "name": "stdout",
     "output_type": "stream",
     "text": [
      "Your slelected dataframe has 28 columns.\n",
      "There are 0 columns that have missing values.\n"
     ]
    },
    {
     "data": {
      "text/html": [
       "<div>\n",
       "<style scoped>\n",
       "    .dataframe tbody tr th:only-of-type {\n",
       "        vertical-align: middle;\n",
       "    }\n",
       "\n",
       "    .dataframe tbody tr th {\n",
       "        vertical-align: top;\n",
       "    }\n",
       "\n",
       "    .dataframe thead th {\n",
       "        text-align: right;\n",
       "    }\n",
       "</style>\n",
       "<table border=\"1\" class=\"dataframe\">\n",
       "  <thead>\n",
       "    <tr style=\"text-align: right;\">\n",
       "      <th></th>\n",
       "      <th>Missing Values</th>\n",
       "      <th>% of Total Values</th>\n",
       "    </tr>\n",
       "  </thead>\n",
       "  <tbody>\n",
       "  </tbody>\n",
       "</table>\n",
       "</div>"
      ],
      "text/plain": [
       "Empty DataFrame\n",
       "Columns: [Missing Values, % of Total Values]\n",
       "Index: []"
      ]
     },
     "execution_count": 1547,
     "metadata": {},
     "output_type": "execute_result"
    }
   ],
   "source": [
    "missing_values_table(df)"
   ]
  },
  {
   "cell_type": "code",
   "execution_count": 1548,
   "metadata": {},
   "outputs": [],
   "source": [
    "df.to_csv('Final_NHANES_2013_2014.csv', index=False)"
   ]
  },
  {
   "cell_type": "code",
   "execution_count": null,
   "metadata": {},
   "outputs": [],
   "source": []
  }
 ],
 "metadata": {
  "kernelspec": {
   "display_name": "Python 3",
   "language": "python",
   "name": "python3"
  },
  "language_info": {
   "codemirror_mode": {
    "name": "ipython",
    "version": 3
   },
   "file_extension": ".py",
   "mimetype": "text/x-python",
   "name": "python",
   "nbconvert_exporter": "python",
   "pygments_lexer": "ipython3",
   "version": "3.6.10"
  }
 },
 "nbformat": 4,
 "nbformat_minor": 4
}
