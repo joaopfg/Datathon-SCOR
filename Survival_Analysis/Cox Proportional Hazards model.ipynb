{
 "cells": [
  {
   "cell_type": "code",
   "execution_count": 1,
   "metadata": {},
   "outputs": [
    {
     "name": "stderr",
     "output_type": "stream",
     "text": [
      "Loading required package: ggplot2\n",
      "Registered S3 methods overwritten by 'ggplot2':\n",
      "  method         from \n",
      "  [.quosures     rlang\n",
      "  c.quosures     rlang\n",
      "  print.quosures rlang\n",
      "Loading required package: ggpubr\n",
      "Loading required package: magrittr\n",
      "\n",
      "Attaching package: ‘dplyr’\n",
      "\n",
      "The following objects are masked from ‘package:stats’:\n",
      "\n",
      "    filter, lag\n",
      "\n",
      "The following objects are masked from ‘package:base’:\n",
      "\n",
      "    intersect, setdiff, setequal, union\n",
      "\n"
     ]
    }
   ],
   "source": [
    "library(\"survival\")\n",
    "library(\"survminer\")\n",
    "library(\"ranger\")\n",
    "library(\"ggplot2\")\n",
    "library(\"dplyr\")\n",
    "library(\"ggfortify\")"
   ]
  },
  {
   "cell_type": "code",
   "execution_count": 2,
   "metadata": {},
   "outputs": [],
   "source": [
    "df <- read.csv(\"Final_NHANES.csv\")"
   ]
  },
  {
   "cell_type": "code",
   "execution_count": 3,
   "metadata": {},
   "outputs": [],
   "source": [
    "for (i in 1:nrow(df)){\n",
    "    df$SEQN[i] = i\n",
    "}"
   ]
  },
  {
   "cell_type": "code",
   "execution_count": 4,
   "metadata": {},
   "outputs": [],
   "source": [
    "levels(df$mortstat) <- c(0,1)"
   ]
  },
  {
   "cell_type": "code",
   "execution_count": 5,
   "metadata": {},
   "outputs": [
    {
     "data": {
      "text/html": [
       "<table>\n",
       "<thead><tr><th scope=col>SEQN</th><th scope=col>Gender</th><th scope=col>Age</th><th scope=col>Race1</th><th scope=col>Education</th><th scope=col>MaritalStatus</th><th scope=col>HHIncomeMid</th><th scope=col>Poverty</th><th scope=col>HomeRooms</th><th scope=col>HomeOwn</th><th scope=col>...</th><th scope=col>UrineFlow1</th><th scope=col>Diabetes</th><th scope=col>HealthGen</th><th scope=col>DaysPhysHlthBad</th><th scope=col>DaysMentHlthBad</th><th scope=col>SleepHrsNight</th><th scope=col>SleepTrouble</th><th scope=col>PhysActive</th><th scope=col>Smoke100</th><th scope=col>mortstat</th></tr></thead>\n",
       "<tbody>\n",
       "\t<tr><td>1               </td><td>male            </td><td>34.00000        </td><td>Race1_White     </td><td>High School     </td><td>Married         </td><td>30000.00        </td><td>1.360000        </td><td>6.000000        </td><td>HomeOwn_Own     </td><td>...             </td><td>1.7017764       </td><td>Diabetes_No     </td><td>Good            </td><td> 0.000000       </td><td>15.0000000      </td><td>4.000000        </td><td>SleepTrouble_Yes</td><td>PhysActive_No   </td><td>Smoke100_Yes    </td><td>0               </td></tr>\n",
       "\t<tr><td>2               </td><td>male            </td><td>34.00000        </td><td>Race1_White     </td><td>High School     </td><td>Married         </td><td>30000.00        </td><td>1.360000        </td><td>6.000000        </td><td>HomeOwn_Own     </td><td>...             </td><td>1.7017764       </td><td>Diabetes_No     </td><td>Good            </td><td> 0.000000       </td><td>15.0000000      </td><td>4.000000        </td><td>SleepTrouble_Yes</td><td>PhysActive_No   </td><td>Smoke100_Yes    </td><td>0               </td></tr>\n",
       "\t<tr><td>3               </td><td>male            </td><td>34.00000        </td><td>Race1_White     </td><td>High School     </td><td>Married         </td><td>30000.00        </td><td>1.360000        </td><td>6.000000        </td><td>HomeOwn_Own     </td><td>...             </td><td>1.7017764       </td><td>Diabetes_No     </td><td>Good            </td><td> 0.000000       </td><td>15.0000000      </td><td>4.000000        </td><td>SleepTrouble_Yes</td><td>PhysActive_No   </td><td>Smoke100_Yes    </td><td>0               </td></tr>\n",
       "\t<tr><td>4               </td><td>male            </td><td> 4.00000        </td><td>Race1_Other     </td><td>College Grad    </td><td>NeverMarried    </td><td>22500.00        </td><td>1.070000        </td><td>9.000000        </td><td>HomeOwn_Own     </td><td>...             </td><td>0.3680715       </td><td>Diabetes_No     </td><td>Vgood           </td><td>-4.463701       </td><td> 0.2140656      </td><td>7.926828        </td><td>SleepTrouble_No </td><td>PhysActive_Yes  </td><td>Smoke100_No     </td><td>0               </td></tr>\n",
       "\t<tr><td>5               </td><td>female          </td><td>38.82787        </td><td>Race1_White     </td><td>Some College    </td><td>Married         </td><td>55898.88        </td><td>2.769805        </td><td>6.220442        </td><td>HomeOwn_Own     </td><td>...             </td><td>0.9426834       </td><td>Diabetes_No     </td><td>Good            </td><td> 2.817233       </td><td> 4.0134528      </td><td>7.003282        </td><td>SleepTrouble_No </td><td>PhysActive_Yes  </td><td>Smoke100_No     </td><td>0               </td></tr>\n",
       "\t<tr><td>6               </td><td>female          </td><td>38.82787        </td><td>Race1_White     </td><td>Some College    </td><td>Married         </td><td>55898.88        </td><td>2.769805        </td><td>6.220442        </td><td>HomeOwn_Own     </td><td>...             </td><td>0.9426834       </td><td>Diabetes_No     </td><td>Good            </td><td> 2.817233       </td><td> 4.0134528      </td><td>7.003282        </td><td>SleepTrouble_No </td><td>PhysActive_Yes  </td><td>Smoke100_No     </td><td>0               </td></tr>\n",
       "</tbody>\n",
       "</table>\n"
      ],
      "text/latex": [
       "\\begin{tabular}{r|llllllllllllllllllllllllllllll}\n",
       " SEQN & Gender & Age & Race1 & Education & MaritalStatus & HHIncomeMid & Poverty & HomeRooms & HomeOwn & ... & UrineFlow1 & Diabetes & HealthGen & DaysPhysHlthBad & DaysMentHlthBad & SleepHrsNight & SleepTrouble & PhysActive & Smoke100 & mortstat\\\\\n",
       "\\hline\n",
       "\t 1                  & male               & 34.00000           & Race1\\_White      & High School        & Married            & 30000.00           & 1.360000           & 6.000000           & HomeOwn\\_Own      & ...                & 1.7017764          & Diabetes\\_No      & Good               &  0.000000          & 15.0000000         & 4.000000           & SleepTrouble\\_Yes & PhysActive\\_No    & Smoke100\\_Yes     & 0                 \\\\\n",
       "\t 2                  & male               & 34.00000           & Race1\\_White      & High School        & Married            & 30000.00           & 1.360000           & 6.000000           & HomeOwn\\_Own      & ...                & 1.7017764          & Diabetes\\_No      & Good               &  0.000000          & 15.0000000         & 4.000000           & SleepTrouble\\_Yes & PhysActive\\_No    & Smoke100\\_Yes     & 0                 \\\\\n",
       "\t 3                  & male               & 34.00000           & Race1\\_White      & High School        & Married            & 30000.00           & 1.360000           & 6.000000           & HomeOwn\\_Own      & ...                & 1.7017764          & Diabetes\\_No      & Good               &  0.000000          & 15.0000000         & 4.000000           & SleepTrouble\\_Yes & PhysActive\\_No    & Smoke100\\_Yes     & 0                 \\\\\n",
       "\t 4                  & male               &  4.00000           & Race1\\_Other      & College Grad       & NeverMarried       & 22500.00           & 1.070000           & 9.000000           & HomeOwn\\_Own      & ...                & 0.3680715          & Diabetes\\_No      & Vgood              & -4.463701          &  0.2140656         & 7.926828           & SleepTrouble\\_No  & PhysActive\\_Yes   & Smoke100\\_No      & 0                 \\\\\n",
       "\t 5                  & female             & 38.82787           & Race1\\_White      & Some College       & Married            & 55898.88           & 2.769805           & 6.220442           & HomeOwn\\_Own      & ...                & 0.9426834          & Diabetes\\_No      & Good               &  2.817233          &  4.0134528         & 7.003282           & SleepTrouble\\_No  & PhysActive\\_Yes   & Smoke100\\_No      & 0                 \\\\\n",
       "\t 6                  & female             & 38.82787           & Race1\\_White      & Some College       & Married            & 55898.88           & 2.769805           & 6.220442           & HomeOwn\\_Own      & ...                & 0.9426834          & Diabetes\\_No      & Good               &  2.817233          &  4.0134528         & 7.003282           & SleepTrouble\\_No  & PhysActive\\_Yes   & Smoke100\\_No      & 0                 \\\\\n",
       "\\end{tabular}\n"
      ],
      "text/markdown": [
       "\n",
       "| SEQN | Gender | Age | Race1 | Education | MaritalStatus | HHIncomeMid | Poverty | HomeRooms | HomeOwn | ... | UrineFlow1 | Diabetes | HealthGen | DaysPhysHlthBad | DaysMentHlthBad | SleepHrsNight | SleepTrouble | PhysActive | Smoke100 | mortstat |\n",
       "|---|---|---|---|---|---|---|---|---|---|---|---|---|---|---|---|---|---|---|---|---|\n",
       "| 1                | male             | 34.00000         | Race1_White      | High School      | Married          | 30000.00         | 1.360000         | 6.000000         | HomeOwn_Own      | ...              | 1.7017764        | Diabetes_No      | Good             |  0.000000        | 15.0000000       | 4.000000         | SleepTrouble_Yes | PhysActive_No    | Smoke100_Yes     | 0                |\n",
       "| 2                | male             | 34.00000         | Race1_White      | High School      | Married          | 30000.00         | 1.360000         | 6.000000         | HomeOwn_Own      | ...              | 1.7017764        | Diabetes_No      | Good             |  0.000000        | 15.0000000       | 4.000000         | SleepTrouble_Yes | PhysActive_No    | Smoke100_Yes     | 0                |\n",
       "| 3                | male             | 34.00000         | Race1_White      | High School      | Married          | 30000.00         | 1.360000         | 6.000000         | HomeOwn_Own      | ...              | 1.7017764        | Diabetes_No      | Good             |  0.000000        | 15.0000000       | 4.000000         | SleepTrouble_Yes | PhysActive_No    | Smoke100_Yes     | 0                |\n",
       "| 4                | male             |  4.00000         | Race1_Other      | College Grad     | NeverMarried     | 22500.00         | 1.070000         | 9.000000         | HomeOwn_Own      | ...              | 0.3680715        | Diabetes_No      | Vgood            | -4.463701        |  0.2140656       | 7.926828         | SleepTrouble_No  | PhysActive_Yes   | Smoke100_No      | 0                |\n",
       "| 5                | female           | 38.82787         | Race1_White      | Some College     | Married          | 55898.88         | 2.769805         | 6.220442         | HomeOwn_Own      | ...              | 0.9426834        | Diabetes_No      | Good             |  2.817233        |  4.0134528       | 7.003282         | SleepTrouble_No  | PhysActive_Yes   | Smoke100_No      | 0                |\n",
       "| 6                | female           | 38.82787         | Race1_White      | Some College     | Married          | 55898.88         | 2.769805         | 6.220442         | HomeOwn_Own      | ...              | 0.9426834        | Diabetes_No      | Good             |  2.817233        |  4.0134528       | 7.003282         | SleepTrouble_No  | PhysActive_Yes   | Smoke100_No      | 0                |\n",
       "\n"
      ],
      "text/plain": [
       "  SEQN Gender Age      Race1       Education    MaritalStatus HHIncomeMid\n",
       "1 1    male   34.00000 Race1_White High School  Married       30000.00   \n",
       "2 2    male   34.00000 Race1_White High School  Married       30000.00   \n",
       "3 3    male   34.00000 Race1_White High School  Married       30000.00   \n",
       "4 4    male    4.00000 Race1_Other College Grad NeverMarried  22500.00   \n",
       "5 5    female 38.82787 Race1_White Some College Married       55898.88   \n",
       "6 6    female 38.82787 Race1_White Some College Married       55898.88   \n",
       "  Poverty  HomeRooms HomeOwn     ... UrineFlow1 Diabetes    HealthGen\n",
       "1 1.360000 6.000000  HomeOwn_Own ... 1.7017764  Diabetes_No Good     \n",
       "2 1.360000 6.000000  HomeOwn_Own ... 1.7017764  Diabetes_No Good     \n",
       "3 1.360000 6.000000  HomeOwn_Own ... 1.7017764  Diabetes_No Good     \n",
       "4 1.070000 9.000000  HomeOwn_Own ... 0.3680715  Diabetes_No Vgood    \n",
       "5 2.769805 6.220442  HomeOwn_Own ... 0.9426834  Diabetes_No Good     \n",
       "6 2.769805 6.220442  HomeOwn_Own ... 0.9426834  Diabetes_No Good     \n",
       "  DaysPhysHlthBad DaysMentHlthBad SleepHrsNight SleepTrouble     PhysActive    \n",
       "1  0.000000       15.0000000      4.000000      SleepTrouble_Yes PhysActive_No \n",
       "2  0.000000       15.0000000      4.000000      SleepTrouble_Yes PhysActive_No \n",
       "3  0.000000       15.0000000      4.000000      SleepTrouble_Yes PhysActive_No \n",
       "4 -4.463701        0.2140656      7.926828      SleepTrouble_No  PhysActive_Yes\n",
       "5  2.817233        4.0134528      7.003282      SleepTrouble_No  PhysActive_Yes\n",
       "6  2.817233        4.0134528      7.003282      SleepTrouble_No  PhysActive_Yes\n",
       "  Smoke100     mortstat\n",
       "1 Smoke100_Yes 0       \n",
       "2 Smoke100_Yes 0       \n",
       "3 Smoke100_Yes 0       \n",
       "4 Smoke100_No  0       \n",
       "5 Smoke100_No  0       \n",
       "6 Smoke100_No  0       "
      ]
     },
     "metadata": {},
     "output_type": "display_data"
    }
   ],
   "source": [
    "head(df)"
   ]
  },
  {
   "cell_type": "code",
   "execution_count": 6,
   "metadata": {},
   "outputs": [
    {
     "data": {
      "text/html": [
       "<table>\n",
       "<thead><tr><th></th><th scope=col>beta</th><th scope=col>HR (95% CI for HR)</th><th scope=col>wald.test</th><th scope=col>p.value</th></tr></thead>\n",
       "<tbody>\n",
       "\t<tr><th scope=row>BPSysAve</th><td>-0.027          </td><td>0.97 (0.97-0.98)</td><td>48              </td><td>4.5e-12         </td></tr>\n",
       "\t<tr><th scope=row>DirectChol</th><td>-0.36           </td><td>0.7 (0.41-1.2)  </td><td>1.8             </td><td>0.18            </td></tr>\n",
       "\t<tr><th scope=row>BPDiaAve</th><td>-0.03           </td><td>0.97 (0.97-0.98)</td><td>150             </td><td>1.9e-33         </td></tr>\n",
       "\t<tr><th scope=row>Weight</th><td>-0.022          </td><td>0.98 (0.97-0.98)</td><td>98              </td><td>3.9e-23         </td></tr>\n",
       "\t<tr><th scope=row>PhysActive</th><td>-0.25           </td><td>0.78 (0.57-1.1) </td><td>2.5             </td><td>0.11            </td></tr>\n",
       "\t<tr><th scope=row>Poverty</th><td>-0.45           </td><td>0.63 (0.56-0.72)</td><td>50              </td><td>1.5e-12         </td></tr>\n",
       "\t<tr><th scope=row>TotChol</th><td>-0.54           </td><td>0.58 (0.51-0.66)</td><td>73              </td><td>1.5e-17         </td></tr>\n",
       "\t<tr><th scope=row>UrineFlow1</th><td>-0.7            </td><td>0.5 (0.34-0.74) </td><td>12              </td><td>0.00049         </td></tr>\n",
       "\t<tr><th scope=row>DaysMentHlthBad</th><td>-0.026          </td><td>0.97 (0.94-1)   </td><td>1.8             </td><td>0.18            </td></tr>\n",
       "\t<tr><th scope=row>UrineVol1</th><td>-0.0046         </td><td>1 (0.99-1)      </td><td>11              </td><td>0.00077         </td></tr>\n",
       "\t<tr><th scope=row>DaysPhysHlthBad</th><td>0.02            </td><td>1 (1-1)         </td><td>4.3             </td><td>0.039           </td></tr>\n",
       "\t<tr><th scope=row>BMI</th><td>-0.076          </td><td>0.93 (0.91-0.94)</td><td>60              </td><td>8.6e-15         </td></tr>\n",
       "\t<tr><th scope=row>HHIncomeMid</th><td>-2.1e-05        </td><td>1 (1-1)         </td><td>29              </td><td>6.5e-08         </td></tr>\n",
       "\t<tr><th scope=row>SleepHrsNight</th><td>0.19            </td><td>1.2 (1.1-1.4)   </td><td>12              </td><td>0.00052         </td></tr>\n",
       "\t<tr><th scope=row>Pulse</th><td>0.028           </td><td>1 (1-1)         </td><td>22              </td><td>3.2e-06         </td></tr>\n",
       "\t<tr><th scope=row>Gender</th><td>-0.52           </td><td>0.6 (0.46-0.77) </td><td>16              </td><td>6e-05           </td></tr>\n",
       "\t<tr><th scope=row>Diabetes</th><td>1.2             </td><td>3.2 (2.5-4)     </td><td>95              </td><td>2.1e-22         </td></tr>\n",
       "\t<tr><th scope=row>Smoke100</th><td>-0.71           </td><td>0.49 (0.38-0.63)</td><td>33              </td><td>1.1e-08         </td></tr>\n",
       "\t<tr><th scope=row>SleepTrouble</th><td>-1.1            </td><td>0.32 (0.25-0.41)</td><td>74              </td><td>8.3e-18         </td></tr>\n",
       "</tbody>\n",
       "</table>\n"
      ],
      "text/latex": [
       "\\begin{tabular}{r|llll}\n",
       "  & beta & HR (95\\% CI for HR) & wald.test & p.value\\\\\n",
       "\\hline\n",
       "\tBPSysAve & -0.027           & 0.97 (0.97-0.98) & 48               & 4.5e-12         \\\\\n",
       "\tDirectChol & -0.36            & 0.7 (0.41-1.2)   & 1.8              & 0.18            \\\\\n",
       "\tBPDiaAve & -0.03            & 0.97 (0.97-0.98) & 150              & 1.9e-33         \\\\\n",
       "\tWeight & -0.022           & 0.98 (0.97-0.98) & 98               & 3.9e-23         \\\\\n",
       "\tPhysActive & -0.25            & 0.78 (0.57-1.1)  & 2.5              & 0.11            \\\\\n",
       "\tPoverty & -0.45            & 0.63 (0.56-0.72) & 50               & 1.5e-12         \\\\\n",
       "\tTotChol & -0.54            & 0.58 (0.51-0.66) & 73               & 1.5e-17         \\\\\n",
       "\tUrineFlow1 & -0.7             & 0.5 (0.34-0.74)  & 12               & 0.00049         \\\\\n",
       "\tDaysMentHlthBad & -0.026           & 0.97 (0.94-1)    & 1.8              & 0.18            \\\\\n",
       "\tUrineVol1 & -0.0046          & 1 (0.99-1)       & 11               & 0.00077         \\\\\n",
       "\tDaysPhysHlthBad & 0.02             & 1 (1-1)          & 4.3              & 0.039           \\\\\n",
       "\tBMI & -0.076           & 0.93 (0.91-0.94) & 60               & 8.6e-15         \\\\\n",
       "\tHHIncomeMid & -2.1e-05         & 1 (1-1)          & 29               & 6.5e-08         \\\\\n",
       "\tSleepHrsNight & 0.19             & 1.2 (1.1-1.4)    & 12               & 0.00052         \\\\\n",
       "\tPulse & 0.028            & 1 (1-1)          & 22               & 3.2e-06         \\\\\n",
       "\tGender & -0.52            & 0.6 (0.46-0.77)  & 16               & 6e-05           \\\\\n",
       "\tDiabetes & 1.2              & 3.2 (2.5-4)      & 95               & 2.1e-22         \\\\\n",
       "\tSmoke100 & -0.71            & 0.49 (0.38-0.63) & 33               & 1.1e-08         \\\\\n",
       "\tSleepTrouble & -1.1             & 0.32 (0.25-0.41) & 74               & 8.3e-18         \\\\\n",
       "\\end{tabular}\n"
      ],
      "text/markdown": [
       "\n",
       "| <!--/--> | beta | HR (95% CI for HR) | wald.test | p.value |\n",
       "|---|---|---|---|---|\n",
       "| BPSysAve | -0.027           | 0.97 (0.97-0.98) | 48               | 4.5e-12          |\n",
       "| DirectChol | -0.36            | 0.7 (0.41-1.2)   | 1.8              | 0.18             |\n",
       "| BPDiaAve | -0.03            | 0.97 (0.97-0.98) | 150              | 1.9e-33          |\n",
       "| Weight | -0.022           | 0.98 (0.97-0.98) | 98               | 3.9e-23          |\n",
       "| PhysActive | -0.25            | 0.78 (0.57-1.1)  | 2.5              | 0.11             |\n",
       "| Poverty | -0.45            | 0.63 (0.56-0.72) | 50               | 1.5e-12          |\n",
       "| TotChol | -0.54            | 0.58 (0.51-0.66) | 73               | 1.5e-17          |\n",
       "| UrineFlow1 | -0.7             | 0.5 (0.34-0.74)  | 12               | 0.00049          |\n",
       "| DaysMentHlthBad | -0.026           | 0.97 (0.94-1)    | 1.8              | 0.18             |\n",
       "| UrineVol1 | -0.0046          | 1 (0.99-1)       | 11               | 0.00077          |\n",
       "| DaysPhysHlthBad | 0.02             | 1 (1-1)          | 4.3              | 0.039            |\n",
       "| BMI | -0.076           | 0.93 (0.91-0.94) | 60               | 8.6e-15          |\n",
       "| HHIncomeMid | -2.1e-05         | 1 (1-1)          | 29               | 6.5e-08          |\n",
       "| SleepHrsNight | 0.19             | 1.2 (1.1-1.4)    | 12               | 0.00052          |\n",
       "| Pulse | 0.028            | 1 (1-1)          | 22               | 3.2e-06          |\n",
       "| Gender | -0.52            | 0.6 (0.46-0.77)  | 16               | 6e-05            |\n",
       "| Diabetes | 1.2              | 3.2 (2.5-4)      | 95               | 2.1e-22          |\n",
       "| Smoke100 | -0.71            | 0.49 (0.38-0.63) | 33               | 1.1e-08          |\n",
       "| SleepTrouble | -1.1             | 0.32 (0.25-0.41) | 74               | 8.3e-18          |\n",
       "\n"
      ],
      "text/plain": [
       "                beta     HR (95% CI for HR) wald.test p.value\n",
       "BPSysAve        -0.027   0.97 (0.97-0.98)   48        4.5e-12\n",
       "DirectChol      -0.36    0.7 (0.41-1.2)     1.8       0.18   \n",
       "BPDiaAve        -0.03    0.97 (0.97-0.98)   150       1.9e-33\n",
       "Weight          -0.022   0.98 (0.97-0.98)   98        3.9e-23\n",
       "PhysActive      -0.25    0.78 (0.57-1.1)    2.5       0.11   \n",
       "Poverty         -0.45    0.63 (0.56-0.72)   50        1.5e-12\n",
       "TotChol         -0.54    0.58 (0.51-0.66)   73        1.5e-17\n",
       "UrineFlow1      -0.7     0.5 (0.34-0.74)    12        0.00049\n",
       "DaysMentHlthBad -0.026   0.97 (0.94-1)      1.8       0.18   \n",
       "UrineVol1       -0.0046  1 (0.99-1)         11        0.00077\n",
       "DaysPhysHlthBad 0.02     1 (1-1)            4.3       0.039  \n",
       "BMI             -0.076   0.93 (0.91-0.94)   60        8.6e-15\n",
       "HHIncomeMid     -2.1e-05 1 (1-1)            29        6.5e-08\n",
       "SleepHrsNight   0.19     1.2 (1.1-1.4)      12        0.00052\n",
       "Pulse           0.028    1 (1-1)            22        3.2e-06\n",
       "Gender          -0.52    0.6 (0.46-0.77)    16        6e-05  \n",
       "Diabetes        1.2      3.2 (2.5-4)        95        2.1e-22\n",
       "Smoke100        -0.71    0.49 (0.38-0.63)   33        1.1e-08\n",
       "SleepTrouble    -1.1     0.32 (0.25-0.41)   74        8.3e-18"
      ]
     },
     "metadata": {},
     "output_type": "display_data"
    }
   ],
   "source": [
    "covariates <- c(\"BPSysAve\", \"DirectChol\", \"BPDiaAve\", \"Weight\", \"PhysActive\", \"Poverty\", \"TotChol\", \"UrineFlow1\", \"DaysMentHlthBad\", \"UrineVol1\", \"DaysPhysHlthBad\", \"BMI\", \"HHIncomeMid\", \"SleepHrsNight\", \"Pulse\", \"Gender\", \"Diabetes\", \"Smoke100\", \"SleepTrouble\")\n",
    "univ_formulas <- sapply(covariates,\n",
    "                        function(x) as.formula(paste('Surv(Age, mortstat)~', x)))\n",
    "                        \n",
    "univ_models <- lapply( univ_formulas, function(x){coxph(x, data = df, id = SEQN)})\n",
    "# Extract data \n",
    "univ_results <- lapply(univ_models,\n",
    "                       function(x){ \n",
    "                          x <- summary(x)\n",
    "                          p.value<-signif(x$wald[\"pvalue\"], digits=2)\n",
    "                          wald.test<-signif(x$wald[\"test\"], digits=2)\n",
    "                          beta<-signif(x$coef[1], digits=2);#coeficient beta\n",
    "                          HR <-signif(x$coef[2], digits=2);#exp(beta)\n",
    "                          HR.confint.lower <- signif(x$conf.int[,\"lower .95\"], 2)\n",
    "                          HR.confint.upper <- signif(x$conf.int[,\"upper .95\"],2)\n",
    "                          HR <- paste0(HR, \" (\", \n",
    "                                       HR.confint.lower, \"-\", HR.confint.upper, \")\")\n",
    "                          res<-c(beta, HR, wald.test, p.value)\n",
    "                          names(res)<-c(\"beta\", \"HR (95% CI for HR)\", \"wald.test\", \n",
    "                                        \"p.value\")\n",
    "                          return(res)\n",
    "                          #return(exp(cbind(coef(x),confint(x))))\n",
    "                         })\n",
    "res <- t(as.data.frame(univ_results, check.names = FALSE))\n",
    "as.data.frame(res)"
   ]
  },
  {
   "cell_type": "code",
   "execution_count": 7,
   "metadata": {},
   "outputs": [],
   "source": [
    "new_df <- df[,c(\"SEQN\", \"Age\",\"BPSysAve\", \"DirectChol\", \"BPDiaAve\", \"Weight\", \"PhysActive\" , \"Poverty\", \"TotChol\", \"UrineFlow1\", \"DaysMentHlthBad\", \"UrineVol1\", \"DaysPhysHlthBad\", \"BMI\", \"HHIncomeMid\", \"SleepHrsNight\", \"Pulse\", \"Gender\", \"Diabetes\", \"Smoke100\", \"SleepTrouble\", \"mortstat\")]"
   ]
  },
  {
   "cell_type": "code",
   "execution_count": 8,
   "metadata": {},
   "outputs": [
    {
     "data": {
      "text/html": [
       "<table>\n",
       "<thead><tr><th scope=col>SEQN</th><th scope=col>Age</th><th scope=col>BPSysAve</th><th scope=col>DirectChol</th><th scope=col>BPDiaAve</th><th scope=col>Weight</th><th scope=col>PhysActive</th><th scope=col>Poverty</th><th scope=col>TotChol</th><th scope=col>UrineFlow1</th><th scope=col>...</th><th scope=col>DaysPhysHlthBad</th><th scope=col>BMI</th><th scope=col>HHIncomeMid</th><th scope=col>SleepHrsNight</th><th scope=col>Pulse</th><th scope=col>Gender</th><th scope=col>Diabetes</th><th scope=col>Smoke100</th><th scope=col>SleepTrouble</th><th scope=col>mortstat</th></tr></thead>\n",
       "<tbody>\n",
       "\t<tr><td>1               </td><td>34.00000        </td><td>113.00000       </td><td>1.290000        </td><td>85.00000        </td><td>87.40000        </td><td>PhysActive_No   </td><td>1.360000        </td><td>3.490000        </td><td>1.7017764       </td><td>...             </td><td> 0.000000       </td><td>32.2200         </td><td>30000.00        </td><td>4.000000        </td><td>70.00000        </td><td>male            </td><td>Diabetes_No     </td><td>Smoke100_Yes    </td><td>SleepTrouble_Yes</td><td>0               </td></tr>\n",
       "\t<tr><td>2               </td><td>34.00000        </td><td>113.00000       </td><td>1.290000        </td><td>85.00000        </td><td>87.40000        </td><td>PhysActive_No   </td><td>1.360000        </td><td>3.490000        </td><td>1.7017764       </td><td>...             </td><td> 0.000000       </td><td>32.2200         </td><td>30000.00        </td><td>4.000000        </td><td>70.00000        </td><td>male            </td><td>Diabetes_No     </td><td>Smoke100_Yes    </td><td>SleepTrouble_Yes</td><td>0               </td></tr>\n",
       "\t<tr><td>3               </td><td>34.00000        </td><td>113.00000       </td><td>1.290000        </td><td>85.00000        </td><td>87.40000        </td><td>PhysActive_No   </td><td>1.360000        </td><td>3.490000        </td><td>1.7017764       </td><td>...             </td><td> 0.000000       </td><td>32.2200         </td><td>30000.00        </td><td>4.000000        </td><td>70.00000        </td><td>male            </td><td>Diabetes_No     </td><td>Smoke100_Yes    </td><td>SleepTrouble_Yes</td><td>0               </td></tr>\n",
       "\t<tr><td>4               </td><td> 4.00000        </td><td> 91.25459       </td><td>1.532677        </td><td>46.95456        </td><td>17.00000        </td><td>PhysActive_Yes  </td><td>1.070000        </td><td>3.882090        </td><td>0.3680715       </td><td>...             </td><td>-4.463701       </td><td>15.3000         </td><td>22500.00        </td><td>7.926828        </td><td>80.02207        </td><td>male            </td><td>Diabetes_No     </td><td>Smoke100_No     </td><td>SleepTrouble_No </td><td>0               </td></tr>\n",
       "\t<tr><td>5               </td><td>38.82787        </td><td>116.79930       </td><td>1.374860        </td><td>66.33432        </td><td>73.51088        </td><td>PhysActive_Yes  </td><td>2.769805        </td><td>4.842883        </td><td>0.9426834       </td><td>...             </td><td> 2.817233       </td><td>26.9935         </td><td>55898.88        </td><td>7.003282        </td><td>74.00662        </td><td>female          </td><td>Diabetes_No     </td><td>Smoke100_No     </td><td>SleepTrouble_No </td><td>0               </td></tr>\n",
       "\t<tr><td>6               </td><td>38.82787        </td><td>116.79930       </td><td>1.374860        </td><td>66.33432        </td><td>73.51088        </td><td>PhysActive_Yes  </td><td>2.769805        </td><td>4.842883        </td><td>0.9426834       </td><td>...             </td><td> 2.817233       </td><td>26.9935         </td><td>55898.88        </td><td>7.003282        </td><td>74.00662        </td><td>female          </td><td>Diabetes_No     </td><td>Smoke100_No     </td><td>SleepTrouble_No </td><td>0               </td></tr>\n",
       "</tbody>\n",
       "</table>\n"
      ],
      "text/latex": [
       "\\begin{tabular}{r|llllllllllllllllllllll}\n",
       " SEQN & Age & BPSysAve & DirectChol & BPDiaAve & Weight & PhysActive & Poverty & TotChol & UrineFlow1 & ... & DaysPhysHlthBad & BMI & HHIncomeMid & SleepHrsNight & Pulse & Gender & Diabetes & Smoke100 & SleepTrouble & mortstat\\\\\n",
       "\\hline\n",
       "\t 1                  & 34.00000           & 113.00000          & 1.290000           & 85.00000           & 87.40000           & PhysActive\\_No    & 1.360000           & 3.490000           & 1.7017764          & ...                &  0.000000          & 32.2200            & 30000.00           & 4.000000           & 70.00000           & male               & Diabetes\\_No      & Smoke100\\_Yes     & SleepTrouble\\_Yes & 0                 \\\\\n",
       "\t 2                  & 34.00000           & 113.00000          & 1.290000           & 85.00000           & 87.40000           & PhysActive\\_No    & 1.360000           & 3.490000           & 1.7017764          & ...                &  0.000000          & 32.2200            & 30000.00           & 4.000000           & 70.00000           & male               & Diabetes\\_No      & Smoke100\\_Yes     & SleepTrouble\\_Yes & 0                 \\\\\n",
       "\t 3                  & 34.00000           & 113.00000          & 1.290000           & 85.00000           & 87.40000           & PhysActive\\_No    & 1.360000           & 3.490000           & 1.7017764          & ...                &  0.000000          & 32.2200            & 30000.00           & 4.000000           & 70.00000           & male               & Diabetes\\_No      & Smoke100\\_Yes     & SleepTrouble\\_Yes & 0                 \\\\\n",
       "\t 4                  &  4.00000           &  91.25459          & 1.532677           & 46.95456           & 17.00000           & PhysActive\\_Yes   & 1.070000           & 3.882090           & 0.3680715          & ...                & -4.463701          & 15.3000            & 22500.00           & 7.926828           & 80.02207           & male               & Diabetes\\_No      & Smoke100\\_No      & SleepTrouble\\_No  & 0                 \\\\\n",
       "\t 5                  & 38.82787           & 116.79930          & 1.374860           & 66.33432           & 73.51088           & PhysActive\\_Yes   & 2.769805           & 4.842883           & 0.9426834          & ...                &  2.817233          & 26.9935            & 55898.88           & 7.003282           & 74.00662           & female             & Diabetes\\_No      & Smoke100\\_No      & SleepTrouble\\_No  & 0                 \\\\\n",
       "\t 6                  & 38.82787           & 116.79930          & 1.374860           & 66.33432           & 73.51088           & PhysActive\\_Yes   & 2.769805           & 4.842883           & 0.9426834          & ...                &  2.817233          & 26.9935            & 55898.88           & 7.003282           & 74.00662           & female             & Diabetes\\_No      & Smoke100\\_No      & SleepTrouble\\_No  & 0                 \\\\\n",
       "\\end{tabular}\n"
      ],
      "text/markdown": [
       "\n",
       "| SEQN | Age | BPSysAve | DirectChol | BPDiaAve | Weight | PhysActive | Poverty | TotChol | UrineFlow1 | ... | DaysPhysHlthBad | BMI | HHIncomeMid | SleepHrsNight | Pulse | Gender | Diabetes | Smoke100 | SleepTrouble | mortstat |\n",
       "|---|---|---|---|---|---|---|---|---|---|---|---|---|---|---|---|---|---|---|---|---|\n",
       "| 1                | 34.00000         | 113.00000        | 1.290000         | 85.00000         | 87.40000         | PhysActive_No    | 1.360000         | 3.490000         | 1.7017764        | ...              |  0.000000        | 32.2200          | 30000.00         | 4.000000         | 70.00000         | male             | Diabetes_No      | Smoke100_Yes     | SleepTrouble_Yes | 0                |\n",
       "| 2                | 34.00000         | 113.00000        | 1.290000         | 85.00000         | 87.40000         | PhysActive_No    | 1.360000         | 3.490000         | 1.7017764        | ...              |  0.000000        | 32.2200          | 30000.00         | 4.000000         | 70.00000         | male             | Diabetes_No      | Smoke100_Yes     | SleepTrouble_Yes | 0                |\n",
       "| 3                | 34.00000         | 113.00000        | 1.290000         | 85.00000         | 87.40000         | PhysActive_No    | 1.360000         | 3.490000         | 1.7017764        | ...              |  0.000000        | 32.2200          | 30000.00         | 4.000000         | 70.00000         | male             | Diabetes_No      | Smoke100_Yes     | SleepTrouble_Yes | 0                |\n",
       "| 4                |  4.00000         |  91.25459        | 1.532677         | 46.95456         | 17.00000         | PhysActive_Yes   | 1.070000         | 3.882090         | 0.3680715        | ...              | -4.463701        | 15.3000          | 22500.00         | 7.926828         | 80.02207         | male             | Diabetes_No      | Smoke100_No      | SleepTrouble_No  | 0                |\n",
       "| 5                | 38.82787         | 116.79930        | 1.374860         | 66.33432         | 73.51088         | PhysActive_Yes   | 2.769805         | 4.842883         | 0.9426834        | ...              |  2.817233        | 26.9935          | 55898.88         | 7.003282         | 74.00662         | female           | Diabetes_No      | Smoke100_No      | SleepTrouble_No  | 0                |\n",
       "| 6                | 38.82787         | 116.79930        | 1.374860         | 66.33432         | 73.51088         | PhysActive_Yes   | 2.769805         | 4.842883         | 0.9426834        | ...              |  2.817233        | 26.9935          | 55898.88         | 7.003282         | 74.00662         | female           | Diabetes_No      | Smoke100_No      | SleepTrouble_No  | 0                |\n",
       "\n"
      ],
      "text/plain": [
       "  SEQN Age      BPSysAve  DirectChol BPDiaAve Weight   PhysActive     Poverty \n",
       "1 1    34.00000 113.00000 1.290000   85.00000 87.40000 PhysActive_No  1.360000\n",
       "2 2    34.00000 113.00000 1.290000   85.00000 87.40000 PhysActive_No  1.360000\n",
       "3 3    34.00000 113.00000 1.290000   85.00000 87.40000 PhysActive_No  1.360000\n",
       "4 4     4.00000  91.25459 1.532677   46.95456 17.00000 PhysActive_Yes 1.070000\n",
       "5 5    38.82787 116.79930 1.374860   66.33432 73.51088 PhysActive_Yes 2.769805\n",
       "6 6    38.82787 116.79930 1.374860   66.33432 73.51088 PhysActive_Yes 2.769805\n",
       "  TotChol  UrineFlow1 ... DaysPhysHlthBad BMI     HHIncomeMid SleepHrsNight\n",
       "1 3.490000 1.7017764  ...  0.000000       32.2200 30000.00    4.000000     \n",
       "2 3.490000 1.7017764  ...  0.000000       32.2200 30000.00    4.000000     \n",
       "3 3.490000 1.7017764  ...  0.000000       32.2200 30000.00    4.000000     \n",
       "4 3.882090 0.3680715  ... -4.463701       15.3000 22500.00    7.926828     \n",
       "5 4.842883 0.9426834  ...  2.817233       26.9935 55898.88    7.003282     \n",
       "6 4.842883 0.9426834  ...  2.817233       26.9935 55898.88    7.003282     \n",
       "  Pulse    Gender Diabetes    Smoke100     SleepTrouble     mortstat\n",
       "1 70.00000 male   Diabetes_No Smoke100_Yes SleepTrouble_Yes 0       \n",
       "2 70.00000 male   Diabetes_No Smoke100_Yes SleepTrouble_Yes 0       \n",
       "3 70.00000 male   Diabetes_No Smoke100_Yes SleepTrouble_Yes 0       \n",
       "4 80.02207 male   Diabetes_No Smoke100_No  SleepTrouble_No  0       \n",
       "5 74.00662 female Diabetes_No Smoke100_No  SleepTrouble_No  0       \n",
       "6 74.00662 female Diabetes_No Smoke100_No  SleepTrouble_No  0       "
      ]
     },
     "metadata": {},
     "output_type": "display_data"
    }
   ],
   "source": [
    "head(new_df)"
   ]
  },
  {
   "cell_type": "code",
   "execution_count": 9,
   "metadata": {},
   "outputs": [
    {
     "data": {
      "text/plain": [
       "Call:\n",
       "coxph(formula = Surv(Age, mortstat) ~ BPSysAve + DirectChol + \n",
       "    BPDiaAve + Weight + PhysActive + Poverty + TotChol + UrineFlow1 + \n",
       "    DaysMentHlthBad + UrineVol1 + DaysPhysHlthBad + BMI + HHIncomeMid + \n",
       "    SleepHrsNight + Pulse + Gender + Diabetes + Smoke100 + SleepTrouble, \n",
       "    data = new_df, id = SEQN)\n",
       "\n",
       "  n= 23514, number of events= 880 \n",
       "\n",
       "         coef  exp(coef)   se(coef)  robust se      z Pr(>|z|)    \n",
       "1  -1.524e-02  9.849e-01  3.198e-03  3.626e-03 -4.203 2.63e-05 ***\n",
       "2  -3.489e-01  7.054e-01  1.958e-01  2.527e-01 -1.381 0.167386    \n",
       "3  -8.361e-03  9.917e-01  4.162e-03  4.481e-03 -1.866 0.062041 .  \n",
       "4  -3.287e-02  9.677e-01  8.608e-03  1.066e-02 -3.084 0.002044 ** \n",
       "5  -5.453e-01  5.797e-01  1.536e-01  1.777e-01 -3.068 0.002153 ** \n",
       "6  -3.770e-01  6.859e-01  1.039e-01  1.276e-01 -2.954 0.003135 ** \n",
       "7  -9.512e-02  9.093e-01  6.454e-02  8.263e-02 -1.151 0.249689    \n",
       "8  -5.372e-02  9.477e-01  1.191e-01  1.919e-01 -0.280 0.779535    \n",
       "9  -2.188e-02  9.784e-01  8.934e-03  1.044e-02 -2.096 0.036064 *  \n",
       "10  2.326e-03  1.002e+00  1.160e-03  1.487e-03  1.564 0.117871    \n",
       "11  2.213e-02  1.022e+00  5.911e-03  6.567e-03  3.370 0.000751 ***\n",
       "12  4.390e-02  1.045e+00  2.706e-02  3.145e-02  1.396 0.162674    \n",
       "13  1.039e-05  1.000e+00  5.340e-06  6.714e-06  1.547 0.121801    \n",
       "14 -1.086e-02  9.892e-01  4.397e-02  5.052e-02 -0.215 0.829734    \n",
       "15  1.436e-02  1.014e+00  4.762e-03  5.353e-03  2.683 0.007293 ** \n",
       "16  4.832e-01  1.621e+00  1.797e-01  2.236e-01  2.161 0.030714 *  \n",
       "17  6.247e-01  1.868e+00  1.313e-01  1.417e-01  4.408 1.04e-05 ***\n",
       "18 -4.985e-02  9.514e-01  1.299e-01  1.491e-01 -0.334 0.738167    \n",
       "19 -3.356e-01  7.149e-01  1.457e-01  1.668e-01 -2.012 0.044246 *  \n",
       "---\n",
       "Signif. codes:  0 ‘***’ 0.001 ‘**’ 0.01 ‘*’ 0.05 ‘.’ 0.1 ‘ ’ 1\n",
       "\n",
       "   exp(coef) exp(-coef) lower .95 upper .95\n",
       "1     0.9849     1.0154    0.9779    0.9919\n",
       "2     0.7054     1.4175    0.4299    1.1577\n",
       "3     0.9917     1.0084    0.9830    1.0004\n",
       "4     0.9677     1.0334    0.9477    0.9881\n",
       "5     0.5797     1.7251    0.4092    0.8212\n",
       "6     0.6859     1.4579    0.5342    0.8809\n",
       "7     0.9093     1.0998    0.7733    1.0691\n",
       "8     0.9477     1.0552    0.6506    1.3804\n",
       "9     0.9784     1.0221    0.9585    0.9986\n",
       "10    1.0023     0.9977    0.9994    1.0053\n",
       "11    1.0224     0.9781    1.0093    1.0356\n",
       "12    1.0449     0.9570    0.9824    1.1113\n",
       "13    1.0000     1.0000    1.0000    1.0000\n",
       "14    0.9892     1.0109    0.8959    1.0922\n",
       "15    1.0145     0.9857    1.0039    1.0252\n",
       "16    1.6212     0.6168    1.0459    2.5129\n",
       "17    1.8677     0.5354    1.4147    2.4658\n",
       "18    0.9514     1.0511    0.7102    1.2744\n",
       "19    0.7149     1.3987    0.5156    0.9914\n",
       "\n",
       "Concordance= 0.706  (se = 0.037 )\n",
       "Likelihood ratio test= 336.2  on 19 df,   p=<2e-16\n",
       "Wald test            = 467.1  on 19 df,   p=<2e-16\n",
       "Score (logrank) test = 430.9  on 19 df,   p=<2e-16,   Robust = 216.4  p=<2e-16\n",
       "\n",
       "  (Note: the likelihood ratio and score tests assume independence of\n",
       "     observations within a cluster, the Wald and robust score tests do not)."
      ]
     },
     "metadata": {},
     "output_type": "display_data"
    }
   ],
   "source": [
    "res.cox <- coxph(Surv(Age, mortstat) ~ BPSysAve + DirectChol + BPDiaAve + Weight + PhysActive + Poverty + TotChol + UrineFlow1 + DaysMentHlthBad + UrineVol1 + DaysPhysHlthBad + BMI + HHIncomeMid + SleepHrsNight + Pulse + Gender + Diabetes + Smoke100 + SleepTrouble, new_df, id=SEQN)\n",
    "summary(res.cox)"
   ]
  },
  {
   "cell_type": "code",
   "execution_count": 10,
   "metadata": {},
   "outputs": [
    {
     "ename": "ERROR",
     "evalue": "Error in hazard %*% diag(risk2[i, ]): argumentos não compatíveis\n",
     "output_type": "error",
     "traceback": [
      "Error in hazard %*% diag(risk2[i, ]): argumentos não compatíveis\nTraceback:\n",
      "1. survfit(res.cox)",
      "2. survfit.coxphms(res.cox)",
      "3. coxsurv.fit2(ctype, stype, se.fit, varmat, cluster, start.time, \n .     object$cmap, object$transitions, object$states, Y, X, weights, \n .     risk, position, strata, oldid, transition, y2, x2, risk2, \n .     cifit = cifit)",
      "4. multihaz(y, x, position, weights, risk, transition, ctype, stype, \n .     hfill, cmap[1, ], x2, risk2, varmat, nstate, se.fit, cifit$pstate[1, \n .         ], cifit$time)",
      "5. apply(hazard %*% diag(risk2[i, ]), 2, cumsum)"
     ]
    }
   ],
   "source": [
    "#Error here!\n",
    "cox_fit <- survfit(res.cox)"
   ]
  },
  {
   "cell_type": "code",
   "execution_count": null,
   "metadata": {},
   "outputs": [],
   "source": []
  }
 ],
 "metadata": {
  "kernelspec": {
   "display_name": "R",
   "language": "R",
   "name": "ir"
  },
  "language_info": {
   "codemirror_mode": "r",
   "file_extension": ".r",
   "mimetype": "text/x-r-source",
   "name": "R",
   "pygments_lexer": "r",
   "version": "3.6.1"
  }
 },
 "nbformat": 4,
 "nbformat_minor": 2
}
