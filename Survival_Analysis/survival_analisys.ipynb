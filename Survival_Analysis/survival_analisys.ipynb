{
 "cells": [
  {
   "cell_type": "markdown",
   "metadata": {},
   "source": [
    "## Import usefull libraries and read the data"
   ]
  },
  {
   "cell_type": "code",
   "execution_count": 97,
   "metadata": {},
   "outputs": [],
   "source": [
    "import numpy as np \n",
    "import pandas as pd \n",
    "import os\n",
    "import seaborn as sns"
   ]
  },
  {
   "cell_type": "code",
   "execution_count": 98,
   "metadata": {},
   "outputs": [],
   "source": [
    "data = pd.read_csv(\"Final_NHANES.csv\", dtype = object)"
   ]
  },
  {
   "cell_type": "code",
   "execution_count": 99,
   "metadata": {},
   "outputs": [
    {
     "data": {
      "text/html": [
       "<div>\n",
       "<style scoped>\n",
       "    .dataframe tbody tr th:only-of-type {\n",
       "        vertical-align: middle;\n",
       "    }\n",
       "\n",
       "    .dataframe tbody tr th {\n",
       "        vertical-align: top;\n",
       "    }\n",
       "\n",
       "    .dataframe thead th {\n",
       "        text-align: right;\n",
       "    }\n",
       "</style>\n",
       "<table border=\"1\" class=\"dataframe\">\n",
       "  <thead>\n",
       "    <tr style=\"text-align: right;\">\n",
       "      <th></th>\n",
       "      <th>Gender</th>\n",
       "      <th>Age</th>\n",
       "      <th>Race1</th>\n",
       "      <th>Education</th>\n",
       "      <th>MaritalStatus</th>\n",
       "      <th>HHIncomeMid</th>\n",
       "      <th>Poverty</th>\n",
       "      <th>HomeRooms</th>\n",
       "      <th>HomeOwn</th>\n",
       "      <th>Work</th>\n",
       "      <th>...</th>\n",
       "      <th>UrineFlow1</th>\n",
       "      <th>Diabetes</th>\n",
       "      <th>HealthGen</th>\n",
       "      <th>DaysPhysHlthBad</th>\n",
       "      <th>DaysMentHlthBad</th>\n",
       "      <th>SleepHrsNight</th>\n",
       "      <th>SleepTrouble</th>\n",
       "      <th>PhysActive</th>\n",
       "      <th>Smoke100</th>\n",
       "      <th>mortstat</th>\n",
       "    </tr>\n",
       "  </thead>\n",
       "  <tbody>\n",
       "    <tr>\n",
       "      <td>0</td>\n",
       "      <td>male</td>\n",
       "      <td>34</td>\n",
       "      <td>Race1_White</td>\n",
       "      <td>High School</td>\n",
       "      <td>Married</td>\n",
       "      <td>30000</td>\n",
       "      <td>1.36</td>\n",
       "      <td>6</td>\n",
       "      <td>HomeOwn_Own</td>\n",
       "      <td>NotWorking</td>\n",
       "      <td>...</td>\n",
       "      <td>1.70177641463576</td>\n",
       "      <td>Diabetes_No</td>\n",
       "      <td>Good</td>\n",
       "      <td>0</td>\n",
       "      <td>15</td>\n",
       "      <td>4</td>\n",
       "      <td>SleepTrouble_Yes</td>\n",
       "      <td>PhysActive_No</td>\n",
       "      <td>Smoke100_Yes</td>\n",
       "      <td>Assumed Alive</td>\n",
       "    </tr>\n",
       "    <tr>\n",
       "      <td>1</td>\n",
       "      <td>male</td>\n",
       "      <td>34</td>\n",
       "      <td>Race1_White</td>\n",
       "      <td>High School</td>\n",
       "      <td>Married</td>\n",
       "      <td>30000</td>\n",
       "      <td>1.36</td>\n",
       "      <td>6</td>\n",
       "      <td>HomeOwn_Own</td>\n",
       "      <td>NotWorking</td>\n",
       "      <td>...</td>\n",
       "      <td>1.70177641463576</td>\n",
       "      <td>Diabetes_No</td>\n",
       "      <td>Good</td>\n",
       "      <td>0</td>\n",
       "      <td>15</td>\n",
       "      <td>4</td>\n",
       "      <td>SleepTrouble_Yes</td>\n",
       "      <td>PhysActive_No</td>\n",
       "      <td>Smoke100_Yes</td>\n",
       "      <td>Assumed Alive</td>\n",
       "    </tr>\n",
       "    <tr>\n",
       "      <td>2</td>\n",
       "      <td>male</td>\n",
       "      <td>34</td>\n",
       "      <td>Race1_White</td>\n",
       "      <td>High School</td>\n",
       "      <td>Married</td>\n",
       "      <td>30000</td>\n",
       "      <td>1.36</td>\n",
       "      <td>6</td>\n",
       "      <td>HomeOwn_Own</td>\n",
       "      <td>NotWorking</td>\n",
       "      <td>...</td>\n",
       "      <td>1.70177641463577</td>\n",
       "      <td>Diabetes_No</td>\n",
       "      <td>Good</td>\n",
       "      <td>0</td>\n",
       "      <td>15</td>\n",
       "      <td>4</td>\n",
       "      <td>SleepTrouble_Yes</td>\n",
       "      <td>PhysActive_No</td>\n",
       "      <td>Smoke100_Yes</td>\n",
       "      <td>Assumed Alive</td>\n",
       "    </tr>\n",
       "    <tr>\n",
       "      <td>3</td>\n",
       "      <td>male</td>\n",
       "      <td>4</td>\n",
       "      <td>Race1_Other</td>\n",
       "      <td>College Grad</td>\n",
       "      <td>NeverMarried</td>\n",
       "      <td>22500</td>\n",
       "      <td>1.07</td>\n",
       "      <td>9</td>\n",
       "      <td>HomeOwn_Own</td>\n",
       "      <td>Working</td>\n",
       "      <td>...</td>\n",
       "      <td>0.368071452274304</td>\n",
       "      <td>Diabetes_No</td>\n",
       "      <td>Vgood</td>\n",
       "      <td>-4.46370118102249</td>\n",
       "      <td>0.214065552999656</td>\n",
       "      <td>7.92682772675902</td>\n",
       "      <td>SleepTrouble_No</td>\n",
       "      <td>PhysActive_Yes</td>\n",
       "      <td>Smoke100_No</td>\n",
       "      <td>Assumed Alive</td>\n",
       "    </tr>\n",
       "    <tr>\n",
       "      <td>4</td>\n",
       "      <td>female</td>\n",
       "      <td>38.8278664981953</td>\n",
       "      <td>Race1_White</td>\n",
       "      <td>Some College</td>\n",
       "      <td>Married</td>\n",
       "      <td>55898.8804917914</td>\n",
       "      <td>2.76980545663685</td>\n",
       "      <td>6.22044208368844</td>\n",
       "      <td>HomeOwn_Own</td>\n",
       "      <td>Working</td>\n",
       "      <td>...</td>\n",
       "      <td>0.942683356965551</td>\n",
       "      <td>Diabetes_No</td>\n",
       "      <td>Good</td>\n",
       "      <td>2.81723290195866</td>\n",
       "      <td>4.0134527777556</td>\n",
       "      <td>7.00328157874799</td>\n",
       "      <td>SleepTrouble_No</td>\n",
       "      <td>PhysActive_Yes</td>\n",
       "      <td>Smoke100_No</td>\n",
       "      <td>Assumed Alive</td>\n",
       "    </tr>\n",
       "  </tbody>\n",
       "</table>\n",
       "<p>5 rows × 29 columns</p>\n",
       "</div>"
      ],
      "text/plain": [
       "   Gender               Age        Race1     Education MaritalStatus  \\\n",
       "0    male                34  Race1_White   High School       Married   \n",
       "1    male                34  Race1_White   High School       Married   \n",
       "2    male                34  Race1_White   High School       Married   \n",
       "3    male                 4  Race1_Other  College Grad  NeverMarried   \n",
       "4  female  38.8278664981953  Race1_White  Some College       Married   \n",
       "\n",
       "        HHIncomeMid           Poverty         HomeRooms      HomeOwn  \\\n",
       "0             30000              1.36                 6  HomeOwn_Own   \n",
       "1             30000              1.36                 6  HomeOwn_Own   \n",
       "2             30000              1.36                 6  HomeOwn_Own   \n",
       "3             22500              1.07                 9  HomeOwn_Own   \n",
       "4  55898.8804917914  2.76980545663685  6.22044208368844  HomeOwn_Own   \n",
       "\n",
       "         Work  ...         UrineFlow1     Diabetes HealthGen  \\\n",
       "0  NotWorking  ...   1.70177641463576  Diabetes_No      Good   \n",
       "1  NotWorking  ...   1.70177641463576  Diabetes_No      Good   \n",
       "2  NotWorking  ...   1.70177641463577  Diabetes_No      Good   \n",
       "3     Working  ...  0.368071452274304  Diabetes_No     Vgood   \n",
       "4     Working  ...  0.942683356965551  Diabetes_No      Good   \n",
       "\n",
       "     DaysPhysHlthBad    DaysMentHlthBad     SleepHrsNight      SleepTrouble  \\\n",
       "0                  0                 15                 4  SleepTrouble_Yes   \n",
       "1                  0                 15                 4  SleepTrouble_Yes   \n",
       "2                  0                 15                 4  SleepTrouble_Yes   \n",
       "3  -4.46370118102249  0.214065552999656  7.92682772675902   SleepTrouble_No   \n",
       "4   2.81723290195866    4.0134527777556  7.00328157874799   SleepTrouble_No   \n",
       "\n",
       "       PhysActive      Smoke100       mortstat  \n",
       "0   PhysActive_No  Smoke100_Yes  Assumed Alive  \n",
       "1   PhysActive_No  Smoke100_Yes  Assumed Alive  \n",
       "2   PhysActive_No  Smoke100_Yes  Assumed Alive  \n",
       "3  PhysActive_Yes   Smoke100_No  Assumed Alive  \n",
       "4  PhysActive_Yes   Smoke100_No  Assumed Alive  \n",
       "\n",
       "[5 rows x 29 columns]"
      ]
     },
     "execution_count": 99,
     "metadata": {},
     "output_type": "execute_result"
    }
   ],
   "source": [
    "data.head()"
   ]
  },
  {
   "cell_type": "markdown",
   "metadata": {},
   "source": [
    "## convert categorical target to numerical"
   ]
  },
  {
   "cell_type": "code",
   "execution_count": 100,
   "metadata": {},
   "outputs": [
    {
     "data": {
      "text/plain": [
       "0     1\n",
       "1     1\n",
       "2     1\n",
       "3     1\n",
       "4     1\n",
       "5     1\n",
       "6     1\n",
       "7     1\n",
       "8     1\n",
       "9     1\n",
       "10    1\n",
       "11    1\n",
       "12    1\n",
       "13    0\n",
       "14    1\n",
       "Name: mortstat, dtype: int64"
      ]
     },
     "execution_count": 100,
     "metadata": {},
     "output_type": "execute_result"
    }
   ],
   "source": [
    "\n",
    "data['mortstat'] = data['mortstat'].apply(lambda x: 1 if x=='Assumed Alive' else 0)\n",
    "\n",
    "# show the head of df['class']\n",
    "data['mortstat'].head(15)"
   ]
  },
  {
   "cell_type": "markdown",
   "metadata": {},
   "source": [
    "## Basic model: analyse the mortality according to ages\n",
    "\n",
    "The model just estimate the percentage you stay in good health based on your age."
   ]
  },
  {
   "cell_type": "code",
   "execution_count": 102,
   "metadata": {},
   "outputs": [],
   "source": [
    "import lifelines\n",
    "from lifelines import KaplanMeierFitter\n",
    "from lifelines import CoxPHFitter"
   ]
  },
  {
   "cell_type": "code",
   "execution_count": 103,
   "metadata": {},
   "outputs": [
    {
     "name": "stderr",
     "output_type": "stream",
     "text": [
      "C:\\Users\\Ndiaye Dia\\Anaconda3\\lib\\site-packages\\lifelines\\utils\\__init__.py:1167: UserWarning: Attempting to convert an unexpected datatype 'object' to float. Suggestion: 1) use `lifelines.utils.datetimes_to_durations` to do conversions or 2) manually convert to floats/booleans.\n",
      "  warnings.warn(warning_text, UserWarning)\n"
     ]
    },
    {
     "data": {
      "text/plain": [
       "[Text(0, 0.5, 'Probability of survival'), Text(0.5, 0, 'Age')]"
      ]
     },
     "execution_count": 103,
     "metadata": {},
     "output_type": "execute_result"
    },
    {
     "data": {
      "image/png": "[encoded data removed]",
      "text/plain": [
       "<Figure size 720x576 with 1 Axes>"
      ]
     },
     "metadata": {},
     "output_type": "display_data"
    }
   ],
   "source": [
    "sns.set(rc={'figure.figsize':(10,8)})\n",
    "kmf = KaplanMeierFitter()\n",
    "kmf.fit(data['Age'], data['mortstat'], label=\"kmf.plot()\")\n",
    "ax=kmf.plot()\n",
    "ax.set(xlabel='Age', ylabel='Probability of survival')"
   ]
  },
  {
   "cell_type": "markdown",
   "metadata": {},
   "source": [
    "## Create Survival models\n",
    "\n"
   ]
  },
  {
   "cell_type": "code",
   "execution_count": 104,
   "metadata": {},
   "outputs": [],
   "source": [
    "# numerical columns\n",
    "num_cols = ['Age', 'HHIncomeMid', 'Poverty', 'HomeRooms', 'Weight', 'Height', 'BMI', 'Pulse', 'BPSysAve', 'BPDiaAve', 'DirectChol', 'TotChol', 'UrineVol1', 'UrineFlow1', 'DaysPhysHlthBad', 'DaysMentHlthBad', 'SleepHrsNight']"
   ]
  },
  {
   "cell_type": "code",
   "execution_count": 105,
   "metadata": {},
   "outputs": [
    {
     "data": {
      "text/plain": [
       "Index(['Gender', 'Race1', 'Education', 'MaritalStatus', 'HomeOwn', 'Work',\n",
       "       'Diabetes', 'HealthGen', 'SleepTrouble', 'PhysActive', 'Smoke100'],\n",
       "      dtype='object')"
      ]
     },
     "execution_count": 105,
     "metadata": {},
     "output_type": "execute_result"
    }
   ],
   "source": [
    "# categorical columns\n",
    "cate_cols = data.columns.drop('mortstat').drop(num_cols)\n",
    "# display categorical columns\n",
    "cate_cols"
   ]
  },
  {
   "cell_type": "code",
   "execution_count": 106,
   "metadata": {},
   "outputs": [],
   "source": [
    "# convert numerical data \n",
    "data[num_cols] = data[num_cols].apply(pd.to_numeric, errors='coerce')"
   ]
  },
  {
   "cell_type": "code",
   "execution_count": 107,
   "metadata": {},
   "outputs": [
    {
     "data": {
      "text/plain": [
       "Index(['Gender', 'Race1', 'Education', 'MaritalStatus', 'HomeOwn', 'Work',\n",
       "       'Diabetes', 'HealthGen', 'SleepTrouble', 'PhysActive', 'Smoke100'],\n",
       "      dtype='object')"
      ]
     },
     "execution_count": 107,
     "metadata": {},
     "output_type": "execute_result"
    }
   ],
   "source": [
    "# categorical columns\n",
    "cate_cols = data.columns.drop('mortstat').drop(num_cols)\n",
    "# display categorical columns\n",
    "cate_cols"
   ]
  },
  {
   "cell_type": "code",
   "execution_count": 108,
   "metadata": {},
   "outputs": [],
   "source": [
    "# X and y\n",
    "X = data.drop(columns=['mortstat'])\n",
    "y= data['mortstat']"
   ]
  },
  {
   "cell_type": "code",
   "execution_count": 110,
   "metadata": {},
   "outputs": [],
   "source": [
    "# Get dummies\n",
    "X = pd.get_dummies(X, prefix_sep='_', drop_first=True)"
   ]
  },
  {
   "cell_type": "code",
   "execution_count": 111,
   "metadata": {},
   "outputs": [
    {
     "data": {
      "text/plain": [
       "[Text(0, 0.5, 'Probability of survival'), Text(0.5, 0, 'Directchol')]"
      ]
     },
     "execution_count": 111,
     "metadata": {},
     "output_type": "execute_result"
    },
    {
     "data": {
      "image/png": "[encoded data removed]",
      "text/plain": [
       "<Figure size 720x576 with 1 Axes>"
      ]
     },
     "metadata": {},
     "output_type": "display_data"
    }
   ],
   "source": [
    "sns.set(rc={'figure.figsize':(10,8)})\n",
    "kmf = KaplanMeierFitter()\n",
    "kmf.fit(X['DirectChol'], data['mortstat'], label=\"kmf.plot()\")\n",
    "ax=kmf.plot()\n",
    "ax.set(xlabel='Directchol', ylabel='Probability of survival')"
   ]
  },
  {
   "cell_type": "markdown",
   "metadata": {},
   "source": [
    "## Predict my survivability with some variables"
   ]
  },
  {
   "cell_type": "code",
   "execution_count": 142,
   "metadata": {},
   "outputs": [],
   "source": [
    "df = data[[\"Age\", \"DirectChol\",\"TotChol\", \"mortstat\"]]"
   ]
  },
  {
   "cell_type": "code",
   "execution_count": 148,
   "metadata": {},
   "outputs": [],
   "source": [
    "##I will try to predict my survivability. i'm a young man with no real health problem. the vector will be this one:\n",
    "me=np.array([24,1.802,4.589,0])"
   ]
  },
  {
   "cell_type": "code",
   "execution_count": 149,
   "metadata": {},
   "outputs": [
    {
     "name": "stderr",
     "output_type": "stream",
     "text": [
      "C:\\Users\\Ndiaye Dia\\Anaconda3\\lib\\site-packages\\ipykernel_launcher.py:1: SettingWithCopyWarning: \n",
      "A value is trying to be set on a copy of a slice from a DataFrame\n",
      "\n",
      "See the caveats in the documentation: http://pandas.pydata.org/pandas-docs/stable/user_guide/indexing.html#returning-a-view-versus-a-copy\n",
      "  \"\"\"Entry point for launching an IPython kernel.\n"
     ]
    }
   ],
   "source": [
    "df.loc[-1] = me\n",
    "#df[\"mortstat\"] = data[\"mortstat\"]"
   ]
  },
  {
   "cell_type": "code",
   "execution_count": 150,
   "metadata": {},
   "outputs": [],
   "source": [
    "cph = CoxPHFitter()\n",
    "cph.fit(df, duration_col='Age',  event_col='mortstat')\n",
    "censored_subjects = df.loc[df['mortstat'] == 0]"
   ]
  },
  {
   "cell_type": "code",
   "execution_count": 151,
   "metadata": {},
   "outputs": [
    {
     "name": "stdout",
     "output_type": "stream",
     "text": [
      "        13        71        97        140       143       167       211    \\\n",
      "0.0  0.996854  0.996854  0.996854  0.996854  0.993034  0.996854  0.994156   \n",
      "1.0  0.993738  0.993738  0.993738  0.993738  0.986158  0.993738  0.988382   \n",
      "2.0  0.990304  0.990304  0.990304  0.990304  0.978614  0.990304  0.982039   \n",
      "3.0  0.987219  0.987219  0.987219  0.987219  0.971862  0.987219  0.976355   \n",
      "4.0  0.983223  0.983223  0.983223  0.983223  0.963155  0.983223  0.969016   \n",
      "\n",
      "        227       235       236    ...     23286     23291     23305  \\\n",
      "0.0  0.996854  0.995136  0.995136  ...  0.996854  0.996854  0.996854   \n",
      "1.0  0.993738  0.990325  0.990325  ...  0.993738  0.993738  0.993738   \n",
      "2.0  0.990304  0.985034  0.985034  ...  0.990304  0.990304  0.990304   \n",
      "3.0  0.987219  0.980288  0.980288  ...  0.987219  0.987219  0.987219   \n",
      "4.0  0.983223  0.974154  0.974154  ...  0.983223  0.983223  0.983223   \n",
      "\n",
      "        23349     23350     23374     23375     23439     23440    -1      \n",
      "0.0  0.991737  0.991737  0.991671  0.991671  0.998082  0.998082  0.992955  \n",
      "1.0  0.983592  0.983592  0.983462  0.983462  0.996179  0.996179  0.986003  \n",
      "2.0  0.974666  0.974666  0.974466  0.974466  0.994080  0.994080  0.978374  \n",
      "3.0  0.966690  0.966690  0.966428  0.966428  0.992192  0.992192  0.971548  \n",
      "4.0  0.956419  0.956419  0.956077  0.956077  0.989742  0.989742  0.962745  \n",
      "\n",
      "[5 rows x 881 columns]\n"
     ]
    }
   ],
   "source": [
    "unconditioned_sf = cph.predict_survival_function(censored_subjects)\n",
    "print(unconditioned_sf.head())"
   ]
  },
  {
   "cell_type": "code",
   "execution_count": 147,
   "metadata": {},
   "outputs": [
    {
     "data": {
      "text/plain": [
       "<matplotlib.legend.Legend at 0x254af077940>"
      ]
     },
     "execution_count": 147,
     "metadata": {},
     "output_type": "execute_result"
    },
    {
     "data": {
      "image/png": "[encoded data removed]",
      "text/plain": [
       "<Figure size 720x576 with 1 Axes>"
      ]
     },
     "metadata": {},
     "output_type": "display_data"
    }
   ],
   "source": [
    "ax=unconditioned_sf[-1].plot(label='me')\n",
    "unconditioned_sf[167].plot(color='r',ax=ax,label='random')\n",
    "ax.set(xlabel='age', ylabel='probability of good health')\n",
    "ax.legend()"
   ]
  },
  {
   "cell_type": "markdown",
   "metadata": {},
   "source": [
    "The blue curve is my survival curve with some variables. The red one is another random one for exemple. Mine seems not so cool but i have used random value in some variable.  "
   ]
  },
  {
   "cell_type": "code",
   "execution_count": null,
   "metadata": {},
   "outputs": [],
   "source": []
  }
 ],
 "metadata": {
  "kernelspec": {
   "display_name": "Python 3",
   "language": "python",
   "name": "python3"
  },
  "language_info": {
   "codemirror_mode": {
    "name": "ipython",
    "version": 3
   },
   "file_extension": ".py",
   "mimetype": "text/x-python",
   "name": "python",
   "nbconvert_exporter": "python",
   "pygments_lexer": "ipython3",
   "version": "3.7.5"
  }
 },
 "nbformat": 4,
 "nbformat_minor": 2
}
